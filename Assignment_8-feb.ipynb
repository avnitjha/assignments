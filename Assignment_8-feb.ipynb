{
 "cells": [
  {
   "cell_type": "markdown",
   "id": "1749dca1-0d9d-4f00-8aa2-c0b3d6be949f",
   "metadata": {},
   "source": [
    "# Q1 :"
   ]
  },
  {
   "cell_type": "markdown",
   "id": "09bda462-a1b8-4742-82aa-2403e7b727af",
   "metadata": {},
   "source": [
    "Abstraction in python is defined as a process of handling complexity by hiding unnecessary information from the user. This is one of the core concepts of object-oriented programming (OOP) languages."
   ]
  },
  {
   "cell_type": "code",
   "execution_count": 1,
   "id": "09e47072-54a0-4418-9bc3-e62818358b1e",
   "metadata": {},
   "outputs": [],
   "source": [
    "from abc import abstractmethod, ABC"
   ]
  },
  {
   "cell_type": "code",
   "execution_count": 2,
   "id": "e2d0c4d5-2be0-4348-b7b7-7aac5b424cb9",
   "metadata": {},
   "outputs": [],
   "source": [
    "class Vehicle(ABC):\n",
    "    def __init__(self, speed, year):\n",
    "        self.speed = speed\n",
    "        self.year = year\n",
    "\n",
    "    def start(self):\n",
    "        print(\"Starting engine\")\n",
    "\n",
    "    def stop(self):\n",
    "        print(\"Stopping engine\")\n",
    "\n",
    "    @abstractmethod\n",
    "    def drive(self):\n",
    "        pass"
   ]
  },
  {
   "cell_type": "code",
   "execution_count": 3,
   "id": "fce86b5e-666a-489d-98a2-924a4f77ccad",
   "metadata": {},
   "outputs": [],
   "source": [
    "class Car(Vehicle):\n",
    "    def __init__(self, canClimbMountains, speed, year):\n",
    "        Vehicle.__init__(self, speed, year)\n",
    "        self.canClimbMountains = canClimbMountains\n",
    "\n",
    "    def drive(self):\n",
    "        print(\"Car is in drive mode\")"
   ]
  },
  {
   "cell_type": "markdown",
   "id": "cbfba9d3-703f-4f9c-9cd7-ce7ac57047de",
   "metadata": {},
   "source": [
    "Here, Vehicle is a parent inherited from ABC class. It has an abstraction method drive. Car is another class that is inherited from Vehicle , so it had to implement the drive method."
   ]
  },
  {
   "cell_type": "markdown",
   "id": "b3841a9c-1cc6-4c82-b720-f9fb2ba1688f",
   "metadata": {},
   "source": [
    "# Q2 :"
   ]
  },
  {
   "cell_type": "markdown",
   "id": "3ba90559-5128-415a-adec-a8db0430c31e",
   "metadata": {},
   "source": [
    "Abstraction is implemented to hide unnecessary data and withdrawing relevant data. Abstraction is hiding the details and implementation of the code.\n",
    "\n",
    "Process of picking the essence of an object you really need\n",
    "In other words, pick the properties you need from the object Example:\n",
    "a. TV - Sound, Visuals, Power Input, Channels Input.\n",
    "b. Mobile - Button/Touch screen, power button, volume button, sim port.\n",
    "c. Car - Steering, Break, Clutch, Accelerator, Key Hole.\n",
    "d. Human - Voice, Body, Eye Sight, Hearing, Emotions.\n",
    "\n",
    "\n",
    "Encapsulation is the mechanism of hiding the code and the data together from the outside world or misuse. It focuses on the inner details of how the object works. Encapsulation is hiding the data and controlling the visibility of the code.\n",
    "\n",
    "Process of hiding the details of an object you don't need\n",
    "In other words, hide the properties and operations you don't need from the object but are required for the object to work properly Example:\n",
    "a. TV - Internal and connections of Speaker, Display, Power distribution b/w components, Channel mechanism.\n",
    "b. Mobile - How the input is parsed and processed, How pressing a button on/off or changes volumes, how sim will connect to service providers.\n",
    "c. Car - How turning steering turns the car, How break slow or stops the car, How clutch works, How accelerator increases speed, How key hole switch on/of the car.\n",
    "d. Human - How voice is produced, What's inside the body, How eye sight works, How hearing works, How emotions generate and effect us\n",
    "\n",
    " "
   ]
  },
  {
   "cell_type": "markdown",
   "id": "bcb2993e-6a04-4bf9-aa19-3a3934db7984",
   "metadata": {},
   "source": [
    "# Q3 : "
   ]
  },
  {
   "cell_type": "markdown",
   "id": "816b5d6b-b9a0-41a5-b639-f691427ef6f8",
   "metadata": {},
   "source": [
    "By default, Python does not provide abstract classes. The ‘abc’ module in the Python library provides the infrastructure for defining custom abstract base classes.\n",
    "\n",
    "Abstract class cannot be instantiated in python. An Abstract method can be call by its subclasses.\n",
    "\n",
    "An abstract class is a class, but not one you can create objects from directly. Its purpose is to define how other classes should look like, i.e. what methods and properties they are expected to have"
   ]
  },
  {
   "cell_type": "markdown",
   "id": "c0084013-e38d-4fb4-8242-399b71c5c870",
   "metadata": {},
   "source": [
    "# Q4 :"
   ]
  },
  {
   "cell_type": "markdown",
   "id": "28940255-d0af-46a2-8890-5371a53d6330",
   "metadata": {},
   "source": [
    "Data Abstraction in Python can be achieved through creating abstract classes and inheriting them later. In Python, abstraction can be achieved by having/using abstract classes and methods in our programs."
   ]
  },
  {
   "cell_type": "markdown",
   "id": "551a19ca-c930-46df-87ca-574511f3b51a",
   "metadata": {},
   "source": [
    "# Q5 :"
   ]
  },
  {
   "cell_type": "markdown",
   "id": "bab1f982-af73-4939-b8e2-82a44807d3d9",
   "metadata": {},
   "source": [
    "Abstract classes cannot be instantiated, but they can be subclassed. When an abstract class is subclassed, the subclass usually provides implementations for all of the abstract methods in its parent class."
   ]
  },
  {
   "cell_type": "code",
   "execution_count": 5,
   "id": "50486fc6-ea81-4d17-8564-e49d706830e2",
   "metadata": {},
   "outputs": [],
   "source": [
    "from abc import (\n",
    "  ABC,\n",
    "  abstractmethod,\n",
    ")\n",
    "class BasicPokemon(ABC):\n",
    "    def __init__(self, name):\n",
    "        self.name = name\n",
    "        self._level = 1\n",
    "    @abstractmethod\n",
    "    def main_attack(self):\n",
    "        ..."
   ]
  },
  {
   "cell_type": "markdown",
   "id": "1485c3c6-80f7-4062-9ff7-f473f927c970",
   "metadata": {},
   "source": [
    "In the code above, we create a new abstract class called BasicPokemon. We indicate that the method main_attack is an abstract method by using the decorator abstractmethod, which means we expect this to be implemented in every subclass of BasicPokemon.\n",
    "\n",
    "What happens if you try and create an object from BasicPokemon directly? TypeError!"
   ]
  },
  {
   "cell_type": "code",
   "execution_count": 7,
   "id": "6d971f29-bbf1-47a9-bf3c-97c9a204c2e7",
   "metadata": {},
   "outputs": [
    {
     "ename": "TypeError",
     "evalue": "Can't instantiate abstract class BasicPokemon with abstract method main_attack",
     "output_type": "error",
     "traceback": [
      "\u001b[0;31m---------------------------------------------------------------------------\u001b[0m",
      "\u001b[0;31mTypeError\u001b[0m                                 Traceback (most recent call last)",
      "Cell \u001b[0;32mIn[7], line 1\u001b[0m\n\u001b[0;32m----> 1\u001b[0m first_pokemon \u001b[38;5;241m=\u001b[39m \u001b[43mBasicPokemon\u001b[49m\u001b[43m(\u001b[49m\u001b[43m)\u001b[49m\n",
      "\u001b[0;31mTypeError\u001b[0m: Can't instantiate abstract class BasicPokemon with abstract method main_attack"
     ]
    }
   ],
   "source": [
    "first_pokemon = BasicPokemon()"
   ]
  },
  {
   "cell_type": "markdown",
   "id": "9b85a3ba-33f7-4b0b-98d8-55961c7e30ad",
   "metadata": {},
   "source": [
    "Now, we will notice that BasicPokemon‘s __init__ method expects a name, argument, therefore the code above will not have worked anyway. The thing to note here is that it doesn’t even go to the __init__ method to check that. The fact that it has an abstract method that has not been implemented takes precedence and it fails because of that!\n",
    "\n",
    "This is how one would use the BasicPokemon class."
   ]
  },
  {
   "cell_type": "code",
   "execution_count": 6,
   "id": "070d749d-4f9b-453a-af92-a0f96693e244",
   "metadata": {},
   "outputs": [],
   "source": [
    "from collections import namedtuple\n",
    "\n",
    "Attack = namedtuple('Attack', ('name', 'damage'))\n",
    "\n",
    "class Pikachu(BasicPokemon):\n",
    "    \n",
    "    def main_attack(self):\n",
    "        \n",
    "        return Attack('Thunder Shock', 5)\n",
    "\n",
    "class Charmander(BasicPokemon):\n",
    "    \n",
    "    def main_attack(self):\n",
    "        \n",
    "        return Attack('Flame Thrower', 5)"
   ]
  },
  {
   "cell_type": "markdown",
   "id": "db890950-b799-405d-878e-66904cdd813f",
   "metadata": {},
   "source": [
    "Now we can create objects from these classes without problems."
   ]
  },
  {
   "cell_type": "code",
   "execution_count": 8,
   "id": "c576d398-4b8e-4d59-b013-310fccf6e78e",
   "metadata": {},
   "outputs": [],
   "source": [
    "pik = Pikachu(\"Ash\")"
   ]
  },
  {
   "cell_type": "code",
   "execution_count": 9,
   "id": "51a3e00e-8c22-4bca-a05b-8104b27fb474",
   "metadata": {},
   "outputs": [
    {
     "data": {
      "text/plain": [
       "Attack(name='Thunder Shock', damage=5)"
      ]
     },
     "execution_count": 9,
     "metadata": {},
     "output_type": "execute_result"
    }
   ],
   "source": [
    "pik.main_attack()"
   ]
  }
 ],
 "metadata": {
  "kernelspec": {
   "display_name": "Python 3 (ipykernel)",
   "language": "python",
   "name": "python3"
  },
  "language_info": {
   "codemirror_mode": {
    "name": "ipython",
    "version": 3
   },
   "file_extension": ".py",
   "mimetype": "text/x-python",
   "name": "python",
   "nbconvert_exporter": "python",
   "pygments_lexer": "ipython3",
   "version": "3.10.8"
  }
 },
 "nbformat": 4,
 "nbformat_minor": 5
}
