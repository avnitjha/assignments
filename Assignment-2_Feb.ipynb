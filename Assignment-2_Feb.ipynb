{
 "cells": [
  {
   "cell_type": "markdown",
   "id": "29424b24-5ba3-445f-a30f-fdd5b4633b14",
   "metadata": {},
   "source": [
    "# Q1 :"
   ]
  },
  {
   "cell_type": "markdown",
   "id": "4e7adb8b-62ee-438f-aeba-6519ff9d256b",
   "metadata": {},
   "source": [
    "A for loop should be used when the programmer knows how many time the loop should run. \n",
    "example:\n",
    "\n",
    "Increment the sequence with 3 (default is 1):\n",
    "\n",
    "for x in range(2, 30, 3):\n",
    "  print(x)\n",
    "\n",
    "\n",
    "If the requirement of the loop is to break based on a condition irrespective of the number of times it runs then in that case we should use while loop.\n",
    "example:\n",
    "\n",
    "Print i as long as i is less than 6:\n",
    "i = 1\n",
    "while i < 6:\n",
    "  print(i)\n",
    "  i += 1"
   ]
  },
  {
   "cell_type": "markdown",
   "id": "ee99afaf-a14d-4fcd-957d-1aa97af185f8",
   "metadata": {},
   "source": [
    "# Q2 :"
   ]
  },
  {
   "cell_type": "code",
   "execution_count": 6,
   "id": "bde42844-6fe0-4cf3-b7eb-79c55313ef29",
   "metadata": {},
   "outputs": [
    {
     "data": {
      "text/plain": [
       "55"
      ]
     },
     "execution_count": 6,
     "metadata": {},
     "output_type": "execute_result"
    }
   ],
   "source": [
    "\n",
    "#Sum using for loop\n",
    "l = list(range(1,11))\n",
    "result = 0\n",
    "for i in l:\n",
    "    result = result + i\n",
    "result\n",
    "\n"
   ]
  },
  {
   "cell_type": "code",
   "execution_count": 17,
   "id": "6dfc727d-3f73-4626-9bae-78de459c8db1",
   "metadata": {},
   "outputs": [
    {
     "data": {
      "text/plain": [
       "3628800"
      ]
     },
     "execution_count": 17,
     "metadata": {},
     "output_type": "execute_result"
    }
   ],
   "source": [
    "#product using for loop\n",
    "\n",
    "l = list(range(1,11))\n",
    "result = 1\n",
    "for i in l:\n",
    "    result = result * i\n",
    "result\n",
    "\n"
   ]
  },
  {
   "cell_type": "code",
   "execution_count": 15,
   "id": "17f7d8f6-72b6-423c-b3d4-9cc65be5e9b3",
   "metadata": {},
   "outputs": [
    {
     "data": {
      "text/plain": [
       "55"
      ]
     },
     "execution_count": 15,
     "metadata": {},
     "output_type": "execute_result"
    }
   ],
   "source": [
    "# sum using while loop\n",
    "n = 10\n",
    "start = 0\n",
    "counter = 1\n",
    "\n",
    "while counter <= n:\n",
    "    start = start + counter\n",
    "    counter =counter + 1\n",
    "start\n",
    "    "
   ]
  },
  {
   "cell_type": "code",
   "execution_count": 16,
   "id": "94b8590a-4f66-4bb5-8afb-3027b98659cc",
   "metadata": {},
   "outputs": [
    {
     "data": {
      "text/plain": [
       "3628800"
      ]
     },
     "execution_count": 16,
     "metadata": {},
     "output_type": "execute_result"
    }
   ],
   "source": [
    "# product using while loop\n",
    "n = 10\n",
    "start = 1\n",
    "counter = 1\n",
    "\n",
    "while counter <= n:\n",
    "    start = start * counter\n",
    "    counter =counter + 1\n",
    "start"
   ]
  },
  {
   "cell_type": "markdown",
   "id": "019725dd-bcea-4e03-a58d-baaca8218c19",
   "metadata": {},
   "source": [
    "# Q3 :"
   ]
  },
  {
   "cell_type": "code",
   "execution_count": 35,
   "id": "8069f05f-b45e-478d-aab2-7f5cc0ec4a8d",
   "metadata": {},
   "outputs": [
    {
     "name": "stdin",
     "output_type": "stream",
     "text": [
      "enter number of units used :  110\n"
     ]
    },
    {
     "name": "stdout",
     "output_type": "stream",
     "text": [
      "Electricity bill is :  510.0\n"
     ]
    }
   ],
   "source": [
    "units= float(input(\"enter number of units used : \"))\n",
    "\n",
    "\n",
    "if units > 300 :\n",
    "        j= (units-300)*20\n",
    "        k= (100*10)\n",
    "        l= (100*6)\n",
    "        m=(100*4.5)\n",
    "        result= j+k+l+m\n",
    "        print(\"Electricity bill is :\",result)\n",
    "\n",
    "elif units>200 and units<=300:\n",
    "    j=(units-200)*10\n",
    "    k=100*6\n",
    "    l=100*4.5\n",
    "    result = j+k+l\n",
    "    print(\"Electricity bill is : \" , result)\n",
    "\n",
    "elif units>100 and units<=200:\n",
    "    j=(units-100)*6\n",
    "    k=100*4.5\n",
    "    result = j+k\n",
    "    print(\"Electricity bill is : \" , result)\n",
    "else:\n",
    "    result = units*4.5\n",
    "    print(\"Electricity bill is : \" , result)\n",
    "    \n",
    "        \n",
    "    "
   ]
  },
  {
   "cell_type": "markdown",
   "id": "76bdaec3-8a6d-4125-b919-14f7d1c99f97",
   "metadata": {},
   "source": [
    "# Q4 :"
   ]
  },
  {
   "cell_type": "code",
   "execution_count": 44,
   "id": "2223b70b-623b-4cf5-9134-0084a9d606a4",
   "metadata": {},
   "outputs": [
    {
     "name": "stdout",
     "output_type": "stream",
     "text": [
      "list of numbers divisible by 4 or 5 is  [4, 5, 8, 10, 12, 15, 16, 20, 24, 25, 28, 30, 32, 35, 36, 40, 44, 45, 48, 50, 52, 55, 56, 60, 64, 65, 68, 70, 72, 75, 76, 80, 84, 85, 88, 90, 92, 95, 96]\n"
     ]
    }
   ],
   "source": [
    "l = list(range(1,100))\n",
    "l1=[]\n",
    "for i in l:\n",
    "    if i%4 == 0 or i%5== 0:\n",
    "        l1.append(i)\n",
    "print(\"list of numbers divisible by 4 or 5 is \",l1)\n"
   ]
  },
  {
   "cell_type": "code",
   "execution_count": 47,
   "id": "3e6d5c63-cd7c-4b7b-b7c2-bbe0d44c713a",
   "metadata": {},
   "outputs": [
    {
     "name": "stdout",
     "output_type": "stream",
     "text": [
      "[4, 5, 8, 10, 12, 15, 16, 20, 24, 25, 28, 30, 32, 35, 36, 40, 44, 45, 48, 50, 52, 55, 56, 60, 64, 65, 68, 70, 72, 75, 76, 80, 84, 85, 88, 90, 92, 95, 96]\n"
     ]
    }
   ],
   "source": [
    "#using comprehension\n",
    "l2 = [i for i in l if i%4==0 or i%5==0]\n",
    "print(l2)"
   ]
  },
  {
   "cell_type": "markdown",
   "id": "2ebf2268-57ce-4ab3-b6a5-5e13056b0759",
   "metadata": {},
   "source": [
    "# Q5 :"
   ]
  },
  {
   "cell_type": "code",
   "execution_count": 57,
   "id": "b2face76-59e1-4d0f-93d6-cb34ababa1f6",
   "metadata": {},
   "outputs": [
    {
     "data": {
      "text/plain": [
       "12"
      ]
     },
     "execution_count": 57,
     "metadata": {},
     "output_type": "execute_result"
    }
   ],
   "source": [
    "v = [\"a\",\"e\",\"i\",\"o\",\"u\"]\n",
    "\n",
    "string= \"I want to become a data scientist\"\n",
    "\n",
    "count=0\n",
    "\n",
    "for i in string:\n",
    "    for j in v:\n",
    "        if i.lower() == j:\n",
    "            count = count + 1\n",
    "count"
   ]
  },
  {
   "cell_type": "code",
   "execution_count": null,
   "id": "4a9d1a66-7de9-471c-bc57-1d5044ad4174",
   "metadata": {},
   "outputs": [],
   "source": []
  }
 ],
 "metadata": {
  "kernelspec": {
   "display_name": "Python 3 (ipykernel)",
   "language": "python",
   "name": "python3"
  },
  "language_info": {
   "codemirror_mode": {
    "name": "ipython",
    "version": 3
   },
   "file_extension": ".py",
   "mimetype": "text/x-python",
   "name": "python",
   "nbconvert_exporter": "python",
   "pygments_lexer": "ipython3",
   "version": "3.10.8"
  }
 },
 "nbformat": 4,
 "nbformat_minor": 5
}
