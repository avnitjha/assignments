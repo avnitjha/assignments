{
 "cells": [
  {
   "cell_type": "markdown",
   "id": "45b198f2-d975-4211-89ae-97c212ec219c",
   "metadata": {},
   "source": [
    "Assignment - 29th Jan"
   ]
  },
  {
   "cell_type": "markdown",
   "id": "ebbd762a-fab7-4bc5-ae46-ead837d63d4c",
   "metadata": {},
   "source": [
    "# Q1:\n",
    "Guido van Rossum is credited as the person who developed Python programming language."
   ]
  },
  {
   "cell_type": "markdown",
   "id": "f8456666-854d-4dd4-ab66-32373908fba5",
   "metadata": {},
   "source": [
    "# Q2 :\n",
    "Python has support for four types of programming namely imperative, functional, procedural, and object-oriented."
   ]
  },
  {
   "cell_type": "markdown",
   "id": "346b3b39-3b71-4770-b253-b67b3c48825c",
   "metadata": {},
   "source": [
    "# Q3 :\n",
    "\n",
    "Yes, as it is known that Python is a case sensitive language, hence it treats upper case and lower case identifiers in differently."
   ]
  },
  {
   "cell_type": "markdown",
   "id": "3537e7ac-6199-4691-ba96-f190af8ba23a",
   "metadata": {},
   "source": [
    "# Q4 :\n",
    "The correct extension of python file is (.py) which is used for python files."
   ]
  },
  {
   "cell_type": "markdown",
   "id": "ec8384c1-4469-49ef-b8c7-71470d33f92e",
   "metadata": {},
   "source": [
    "# Q5 :\n",
    "Through various sources, it can be summed up that python language is interpreted. However, the python program is first compiled and then interpreted. The compilation part is done at the back-end which is usually hidden from the user thus, it is widely believed that it is an interpreted language. When a code is executed the compilation part is done first which generates byte code and internally this byte code gets converted by the python virtual machine(p.v.m) according to the underlying platform.\n"
   ]
  },
  {
   "cell_type": "markdown",
   "id": "e3a861aa-75ba-4d5e-a30c-d5ff5bd2321f",
   "metadata": {},
   "source": [
    "# Q6 :\n",
    "The following are blocks in python programming language: a module, a function body, and a class definition."
   ]
  },
  {
   "cell_type": "markdown",
   "id": "d3129711-97cb-42e6-8b86-f243753a7e10",
   "metadata": {},
   "source": [
    "# Q7 :\n",
    "Single line comments can be written using # symbol."
   ]
  },
  {
   "cell_type": "markdown",
   "id": "7748cdeb-a8c4-4b17-af4d-17fa88581768",
   "metadata": {},
   "source": [
    "# Q8 :\n",
    "These functions can be used to check the version of python:\n",
    "sys.version method\n",
    "python_version() function\n",
    "Python -V command"
   ]
  },
  {
   "cell_type": "markdown",
   "id": "75e4bcd9-5aa8-469c-a151-bb03609b5852",
   "metadata": {},
   "source": [
    "# Q9 :\n",
    "Python supports the creation of anonymous functions at runtime using a construct called Lambda.\n"
   ]
  },
  {
   "cell_type": "markdown",
   "id": "a2d592de-d9ff-4226-ae10-a252318ae503",
   "metadata": {},
   "source": [
    "# Q10 :\n",
    "\n",
    "pip stands for preferred installer program in Python programming language."
   ]
  },
  {
   "cell_type": "markdown",
   "id": "4a410583-6b3f-43e8-bc42-9b2a856c2620",
   "metadata": {},
   "source": [
    "# Q11 :\n",
    "Few built-in functions in python are len(), range(), type(), bool(), int() etc."
   ]
  },
  {
   "cell_type": "markdown",
   "id": "00a7fba4-514e-4d7e-9d1c-984b8098812b",
   "metadata": {},
   "source": [
    "# Q12 :\n",
    "An identifier can have a maximum length of 79 characters in Python"
   ]
  },
  {
   "cell_type": "markdown",
   "id": "541d6769-69cf-4175-99f6-5008ef9f8ad7",
   "metadata": {},
   "source": [
    "# Q13 :\n",
    "Benefits of using Python are as below:\n",
    "\n",
    "Simple to Use and Understand\n",
    "Free and Open-Source\n",
    "Dynamically Typed\n",
    "Portability\n",
    "Interpreted Language"
   ]
  },
  {
   "cell_type": "markdown",
   "id": "1e7bc926-fae2-4b63-958a-1f14b2966475",
   "metadata": {},
   "source": [
    "# Q14 :\n",
    "\n",
    "Memory management in Python involves a private heap containing all Python objects and data structures. The management of this private heap is ensured internally by the Python memory manager. The Python memory manager has different components which deal with various dynamic storage management aspects, like sharing, segmentation, preallocation or caching.\n"
   ]
  },
  {
   "cell_type": "markdown",
   "id": "5b0ef01a-6c8c-4263-a67d-2f8879cc5da0",
   "metadata": {},
   "source": [
    "# Q15 :\n",
    "You can easily add Python to Windows path by downloading a recent version of Python, and then checking the box to Add Python to PATH at the bottom of the setup screen:\n",
    "Finish the installation, and it sets the path automatically.\n"
   ]
  },
  {
   "cell_type": "markdown",
   "id": "463757af-b54a-435d-8aaf-125be6567c95",
   "metadata": {},
   "source": [
    "# Q16 :\n",
    "Indentation is mandatory in python to define the blocks of statements. It is preferred to use whitespaces instead of tabs to indent in python. Python uses four spaces as default indentation spaces."
   ]
  }
 ],
 "metadata": {
  "kernelspec": {
   "display_name": "Python 3 (ipykernel)",
   "language": "python",
   "name": "python3"
  },
  "language_info": {
   "codemirror_mode": {
    "name": "ipython",
    "version": 3
   },
   "file_extension": ".py",
   "mimetype": "text/x-python",
   "name": "python",
   "nbconvert_exporter": "python",
   "pygments_lexer": "ipython3",
   "version": "3.10.8"
  }
 },
 "nbformat": 4,
 "nbformat_minor": 5
}
