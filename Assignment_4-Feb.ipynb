{
 "cells": [
  {
   "cell_type": "markdown",
   "id": "98d9ad2f-1e78-4375-92cd-c7e342d18be0",
   "metadata": {},
   "source": [
    "# Assignment 4th Feb"
   ]
  },
  {
   "cell_type": "markdown",
   "id": "a3c4d96b-b737-46c8-beee-bf95bd5857bc",
   "metadata": {},
   "source": [
    "# Q1 :"
   ]
  },
  {
   "cell_type": "code",
   "execution_count": 1,
   "id": "686bc483-df2e-43a1-b098-3ef98ae42c3b",
   "metadata": {},
   "outputs": [],
   "source": [
    "l = [('Sachin Tendulkar', 34357), ('Ricky Ponting', 27483), ('Jack Kallis', 25534), ('Virat Kohli', 24936)]"
   ]
  },
  {
   "cell_type": "code",
   "execution_count": 2,
   "id": "e18f69da-85b5-4488-b125-2ce0834e824d",
   "metadata": {},
   "outputs": [
    {
     "data": {
      "text/plain": [
       "[('Virat Kohli', 24936),\n",
       " ('Jack Kallis', 25534),\n",
       " ('Ricky Ponting', 27483),\n",
       " ('Sachin Tendulkar', 34357)]"
      ]
     },
     "execution_count": 2,
     "metadata": {},
     "output_type": "execute_result"
    }
   ],
   "source": [
    "l.sort(key = lambda a : a[1])\n",
    "l"
   ]
  },
  {
   "cell_type": "markdown",
   "id": "7a700480-5ad9-4bf7-9050-040675a436d7",
   "metadata": {},
   "source": [
    "# Q2 :"
   ]
  },
  {
   "cell_type": "code",
   "execution_count": 9,
   "id": "ce271410-2051-4570-b869-1f0fae1778d2",
   "metadata": {},
   "outputs": [],
   "source": [
    "l1 =[1, 2, 3, 4, 5, 6, 7, 8, 9, 10]"
   ]
  },
  {
   "cell_type": "code",
   "execution_count": 10,
   "id": "da5ded77-e3c3-4fd3-aa4f-0668a9e2de9b",
   "metadata": {},
   "outputs": [
    {
     "data": {
      "text/plain": [
       "[1, 4, 9, 16, 25, 36, 49, 64, 81, 100]"
      ]
     },
     "execution_count": 10,
     "metadata": {},
     "output_type": "execute_result"
    }
   ],
   "source": [
    "list(map(lambda x: x**2 ,l1))"
   ]
  },
  {
   "cell_type": "markdown",
   "id": "892cf4e8-173c-44d7-b228-14722e2bec0c",
   "metadata": {},
   "source": [
    "# Q3 :"
   ]
  },
  {
   "cell_type": "code",
   "execution_count": 12,
   "id": "87f9c086-d0c5-455f-a069-2dd9fa8e1c83",
   "metadata": {},
   "outputs": [],
   "source": [
    "l2 =[1, 2, 3, 4, 5, 6, 7, 8, 9, 10]"
   ]
  },
  {
   "cell_type": "code",
   "execution_count": 14,
   "id": "d862ea3d-937b-4c1f-bf7f-8ea884115db1",
   "metadata": {},
   "outputs": [
    {
     "data": {
      "text/plain": [
       "['1', '2', '3', '4', '5', '6', '7', '8', '9', '10']"
      ]
     },
     "execution_count": 14,
     "metadata": {},
     "output_type": "execute_result"
    }
   ],
   "source": [
    "list(map(lambda x : str(x),l2))"
   ]
  },
  {
   "cell_type": "markdown",
   "id": "95d463d2-29b9-4ad6-b26c-fe77f2157343",
   "metadata": {},
   "source": [
    "# Q4 :"
   ]
  },
  {
   "cell_type": "code",
   "execution_count": 15,
   "id": "d6e4f9ef-ddef-4eb1-8e72-ca9b2c5cd957",
   "metadata": {},
   "outputs": [],
   "source": [
    "from functools import reduce"
   ]
  },
  {
   "cell_type": "code",
   "execution_count": 17,
   "id": "a27dc7f8-5077-40e0-8284-6265ddce7097",
   "metadata": {},
   "outputs": [
    {
     "data": {
      "text/plain": [
       "[1,\n",
       " 2,\n",
       " 3,\n",
       " 4,\n",
       " 5,\n",
       " 6,\n",
       " 7,\n",
       " 8,\n",
       " 9,\n",
       " 10,\n",
       " 11,\n",
       " 12,\n",
       " 13,\n",
       " 14,\n",
       " 15,\n",
       " 16,\n",
       " 17,\n",
       " 18,\n",
       " 19,\n",
       " 20,\n",
       " 21,\n",
       " 22,\n",
       " 23,\n",
       " 24,\n",
       " 25]"
      ]
     },
     "execution_count": 17,
     "metadata": {},
     "output_type": "execute_result"
    }
   ],
   "source": [
    "l3 = list(range(1,26))\n",
    "l3"
   ]
  },
  {
   "cell_type": "code",
   "execution_count": 18,
   "id": "44e77134-7e2a-4190-acb3-1c6b6555ee7e",
   "metadata": {},
   "outputs": [
    {
     "data": {
      "text/plain": [
       "15511210043330985984000000"
      ]
     },
     "execution_count": 18,
     "metadata": {},
     "output_type": "execute_result"
    }
   ],
   "source": [
    "reduce(lambda x,y: x*y,l3)"
   ]
  },
  {
   "cell_type": "markdown",
   "id": "84c2c0b6-e6e2-4c9c-85d5-193a3e1b9161",
   "metadata": {},
   "source": [
    "# Q 5 : "
   ]
  },
  {
   "cell_type": "code",
   "execution_count": 19,
   "id": "df6e69ab-9fe8-4fc7-afb9-8a9aeb798216",
   "metadata": {},
   "outputs": [],
   "source": [
    "l4 = [2, 3, 6, 9, 27, 60, 90, 120, 55, 46]"
   ]
  },
  {
   "cell_type": "code",
   "execution_count": 32,
   "id": "203b245c-ea16-49d3-a8d6-dfc5f57b0157",
   "metadata": {},
   "outputs": [],
   "source": [
    "num_divided_by_2 = list(filter(lambda x : x % 2 == 0,l4))"
   ]
  },
  {
   "cell_type": "code",
   "execution_count": 33,
   "id": "b36c6d69-3fae-44c0-804f-364dde40329a",
   "metadata": {},
   "outputs": [],
   "source": [
    "num_divided_by_3 = list(filter(lambda x : x % 3 == 0,l4))"
   ]
  },
  {
   "cell_type": "code",
   "execution_count": 34,
   "id": "0fdbf633-3d88-4170-af05-5206ef2a4aad",
   "metadata": {},
   "outputs": [
    {
     "name": "stdout",
     "output_type": "stream",
     "text": [
      " numbers divisible by 2 are  [2, 6, 60, 90, 120, 46]\n",
      " numbers divisible by 3 are  [3, 6, 9, 27, 60, 90, 120]\n"
     ]
    }
   ],
   "source": [
    "print(\" numbers divisible by 2 are \" , num_divided_by_2)\n",
    "print(\" numbers divisible by 3 are \" , num_divided_by_3)\n"
   ]
  },
  {
   "cell_type": "markdown",
   "id": "2b7f9295-f38e-4cfb-9a86-2fe8f8134e8a",
   "metadata": {},
   "source": [
    "# Q 6 :"
   ]
  },
  {
   "cell_type": "code",
   "execution_count": 35,
   "id": "517352c7-cfa5-4dd7-ab04-54427d950b19",
   "metadata": {},
   "outputs": [],
   "source": [
    "l5 = ['python', 'php', 'aba', 'radar', 'level']"
   ]
  },
  {
   "cell_type": "code",
   "execution_count": 36,
   "id": "8003a1b7-2214-4a9f-807e-751dca234b05",
   "metadata": {},
   "outputs": [
    {
     "data": {
      "text/plain": [
       "['php', 'aba', 'radar', 'level']"
      ]
     },
     "execution_count": 36,
     "metadata": {},
     "output_type": "execute_result"
    }
   ],
   "source": [
    "list(filter(lambda x: x == x[::-1],l5))"
   ]
  }
 ],
 "metadata": {
  "kernelspec": {
   "display_name": "Python 3 (ipykernel)",
   "language": "python",
   "name": "python3"
  },
  "language_info": {
   "codemirror_mode": {
    "name": "ipython",
    "version": 3
   },
   "file_extension": ".py",
   "mimetype": "text/x-python",
   "name": "python",
   "nbconvert_exporter": "python",
   "pygments_lexer": "ipython3",
   "version": "3.10.8"
  }
 },
 "nbformat": 4,
 "nbformat_minor": 5
}
