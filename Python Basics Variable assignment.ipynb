{
 "cells": [
  {
   "cell_type": "markdown",
   "id": "701f3f16-c4d0-4c03-9a27-1da00cad6b6a",
   "metadata": {},
   "source": [
    "# Python Basics Variable"
   ]
  },
  {
   "cell_type": "code",
   "execution_count": null,
   "id": "01040093-a586-4cd6-8d1d-362fbac93dea",
   "metadata": {},
   "outputs": [],
   "source": [
    "#1. Declare two variables, `x` and `y`, and assign them integer values. Swap the values of these variables without using any temporary variable."
   ]
  },
  {
   "cell_type": "code",
   "execution_count": 1,
   "id": "2e3635e5-5880-45dc-99f8-1963aa315873",
   "metadata": {},
   "outputs": [],
   "source": [
    "x = 7\n",
    "y = 14"
   ]
  },
  {
   "cell_type": "code",
   "execution_count": 2,
   "id": "8dc4fb07-4804-44dd-8bbe-6b86b2395db4",
   "metadata": {},
   "outputs": [],
   "source": [
    "# Swap the values without using a temporary variable\n",
    "x, y = y, x"
   ]
  },
  {
   "cell_type": "code",
   "execution_count": 3,
   "id": "4cc93a25-f13c-4e9a-bb46-88907075a34f",
   "metadata": {},
   "outputs": [
    {
     "name": "stdout",
     "output_type": "stream",
     "text": [
      "x = 14\n",
      "y = 7\n"
     ]
    }
   ],
   "source": [
    "# Print the swapped values to verify the result\n",
    "print(\"x =\", x)\n",
    "print(\"y =\", y)"
   ]
  },
  {
   "cell_type": "code",
   "execution_count": null,
   "id": "173d4216-d12f-4b2b-a530-2c75c5f7cbf7",
   "metadata": {},
   "outputs": [],
   "source": [
    "#Create a program that calculates the area of a rectangle. Take the length and width as inputs from the user and store them in variables. Calculate and display the area."
   ]
  },
  {
   "cell_type": "code",
   "execution_count": 4,
   "id": "1fc6b513-c4d6-4991-bbb2-29e98ebb31d0",
   "metadata": {},
   "outputs": [
    {
     "name": "stdin",
     "output_type": "stream",
     "text": [
      "Enter the length of the rectangle:  10\n",
      "Enter the width of the rectangle:  12\n"
     ]
    }
   ],
   "source": [
    "# Take the length and width as inputs from the user\n",
    "length = float(input(\"Enter the length of the rectangle: \"))\n",
    "width = float(input(\"Enter the width of the rectangle: \"))\n",
    "\n"
   ]
  },
  {
   "cell_type": "code",
   "execution_count": 5,
   "id": "44643acb-d72d-4fd9-b32a-d4a9e04b835c",
   "metadata": {},
   "outputs": [
    {
     "name": "stdout",
     "output_type": "stream",
     "text": [
      "The area of the rectangle is: 120.0\n"
     ]
    }
   ],
   "source": [
    "# Calculate the area of the rectangle\n",
    "area = length * width\n",
    "\n",
    "# Display the area\n",
    "print(\"The area of the rectangle is:\", area)"
   ]
  },
  {
   "cell_type": "code",
   "execution_count": null,
   "id": "592f898e-628c-466b-8066-b82219248cad",
   "metadata": {},
   "outputs": [],
   "source": [
    "#3. Write a Python program that converts temperatures from Celsius to Fahrenheit. Take the temperature in Celsius as input, store it in a variable, convert it to Fahrenheit, and display the result."
   ]
  },
  {
   "cell_type": "code",
   "execution_count": 7,
   "id": "6270f7da-4aaa-4769-8902-ab2a6b17fe27",
   "metadata": {},
   "outputs": [
    {
     "name": "stdin",
     "output_type": "stream",
     "text": [
      "Enter the temperature in Celsius:  40\n"
     ]
    }
   ],
   "source": [
    "# Take the temperature in Celsius as input from the user\n",
    "celsius = float(input(\"Enter the temperature in Celsius: \"))"
   ]
  },
  {
   "cell_type": "code",
   "execution_count": 8,
   "id": "0289052a-6f57-4975-96f1-401ce553a1bd",
   "metadata": {},
   "outputs": [],
   "source": [
    "# Convert the temperature to Fahrenheit\n",
    "fahrenheit = (celsius * 9/5) + 32"
   ]
  },
  {
   "cell_type": "code",
   "execution_count": 9,
   "id": "e8dad8ac-e5b4-4932-ab75-b5f3b8504a9c",
   "metadata": {},
   "outputs": [
    {
     "name": "stdout",
     "output_type": "stream",
     "text": [
      "The temperature in Fahrenheit is: 104.0\n"
     ]
    }
   ],
   "source": [
    "# Display the result\n",
    "print(\"The temperature in Fahrenheit is:\", fahrenheit)"
   ]
  },
  {
   "cell_type": "markdown",
   "id": "97324bb6-76e7-4ebf-ac73-a934464d2220",
   "metadata": {},
   "source": [
    "String Based Questions"
   ]
  },
  {
   "cell_type": "code",
   "execution_count": null,
   "id": "d8582e2b-0cdf-42e8-af0c-59d075fa5291",
   "metadata": {},
   "outputs": [],
   "source": [
    "# 1. Write a Python program that takes a string as input and prints the length of the string."
   ]
  },
  {
   "cell_type": "code",
   "execution_count": 10,
   "id": "c78636ed-dc8b-4b98-81b0-d829f6ecd2c3",
   "metadata": {},
   "outputs": [
    {
     "name": "stdin",
     "output_type": "stream",
     "text": [
      "Enter a string:  hut\n"
     ]
    }
   ],
   "source": [
    "# Take the string as input from the user\n",
    "user_string = input(\"Enter a string: \")"
   ]
  },
  {
   "cell_type": "code",
   "execution_count": 11,
   "id": "45a7c5ff-7b69-4412-b0af-bfbf4f0e436e",
   "metadata": {},
   "outputs": [
    {
     "name": "stdout",
     "output_type": "stream",
     "text": [
      "The length of the string is: 3\n"
     ]
    }
   ],
   "source": [
    "# Calculate the length of the string\n",
    "string_length = len(user_string)\n",
    "\n",
    "# Display the length of the string\n",
    "print(\"The length of the string is:\", string_length)"
   ]
  },
  {
   "cell_type": "code",
   "execution_count": null,
   "id": "625055ca-6279-4b48-a7b5-75a043076120",
   "metadata": {},
   "outputs": [],
   "source": [
    "#2. Create a program that takes a sentence from the user and counts the number of vowels (a, e, i, o, u) in the string."
   ]
  },
  {
   "cell_type": "code",
   "execution_count": 12,
   "id": "eb1aa8ca-a9fd-44cc-a074-d5c77864a733",
   "metadata": {},
   "outputs": [
    {
     "name": "stdin",
     "output_type": "stream",
     "text": [
      "Enter a sentence:  abcdefghij\n"
     ]
    }
   ],
   "source": [
    "# Take the sentence as input from the user\n",
    "sentence = input(\"Enter a sentence: \")"
   ]
  },
  {
   "cell_type": "code",
   "execution_count": 13,
   "id": "cd5c5feb-bc18-4397-b520-6320a931ea88",
   "metadata": {},
   "outputs": [],
   "source": [
    "# Define the vowels\n",
    "vowels = \"aeiouAEIOU\""
   ]
  },
  {
   "cell_type": "code",
   "execution_count": 14,
   "id": "ab9820d1-6cf0-4e6d-a5c7-95a287930522",
   "metadata": {},
   "outputs": [],
   "source": [
    "# Initialize a counter for vowels\n",
    "vowel_count = 0"
   ]
  },
  {
   "cell_type": "code",
   "execution_count": 15,
   "id": "2d07b0e5-2359-4d1e-9b2b-58531f5d4290",
   "metadata": {},
   "outputs": [],
   "source": [
    "# Count the vowels in the sentence\n",
    "for char in sentence:\n",
    "    if char in vowels:\n",
    "        vowel_count += 1"
   ]
  },
  {
   "cell_type": "code",
   "execution_count": 16,
   "id": "b313c6a9-5213-4fe6-8879-1a9388c480ad",
   "metadata": {},
   "outputs": [
    {
     "name": "stdout",
     "output_type": "stream",
     "text": [
      "The number of vowels in the sentence is: 3\n"
     ]
    }
   ],
   "source": [
    "# Display the number of vowels\n",
    "print(\"The number of vowels in the sentence is:\", vowel_count)"
   ]
  },
  {
   "cell_type": "code",
   "execution_count": null,
   "id": "daffbe7a-98f0-426a-9d8e-d71bf1ed8682",
   "metadata": {},
   "outputs": [],
   "source": [
    "#3. Given a string, reverse the order of characters using string slicing and print the reversed string."
   ]
  },
  {
   "cell_type": "code",
   "execution_count": 17,
   "id": "e612d25e-e8e7-44df-a29f-ae2189335576",
   "metadata": {},
   "outputs": [
    {
     "name": "stdin",
     "output_type": "stream",
     "text": [
      "Enter a string:  radarthe\n"
     ]
    }
   ],
   "source": [
    "# Take the string as input from the user\n",
    "user_string = input(\"Enter a string: \")"
   ]
  },
  {
   "cell_type": "code",
   "execution_count": 18,
   "id": "fa8f2e25-fcce-4a8b-9479-24c8d061b583",
   "metadata": {},
   "outputs": [],
   "source": [
    "# Reverse the string using slicing\n",
    "reversed_string = user_string[::-1]"
   ]
  },
  {
   "cell_type": "code",
   "execution_count": 19,
   "id": "e7caa765-1024-4a85-bd1d-e0721818992d",
   "metadata": {},
   "outputs": [
    {
     "name": "stdout",
     "output_type": "stream",
     "text": [
      "The reversed string is: ehtradar\n"
     ]
    }
   ],
   "source": [
    "# Display the reversed string\n",
    "print(\"The reversed string is:\", reversed_string)"
   ]
  },
  {
   "cell_type": "code",
   "execution_count": null,
   "id": "5264bad6-e580-4569-b4a5-f3ece9f428a8",
   "metadata": {},
   "outputs": [],
   "source": [
    "#4. Write a program that takes a string as input and checks if it is a palindrome (reads the same forwards and backwards)."
   ]
  },
  {
   "cell_type": "code",
   "execution_count": 22,
   "id": "6ae1ae6e-b509-48a9-ba1e-ebf6e772738a",
   "metadata": {},
   "outputs": [
    {
     "name": "stdin",
     "output_type": "stream",
     "text": [
      "Enter a string:  THE\n"
     ]
    }
   ],
   "source": [
    "# Take the string as input from the user\n",
    "user_string = input(\"Enter a string: \")"
   ]
  },
  {
   "cell_type": "code",
   "execution_count": 23,
   "id": "4db023be-8eb1-4f59-9d78-61dc06fa2242",
   "metadata": {},
   "outputs": [
    {
     "name": "stdout",
     "output_type": "stream",
     "text": [
      "The string is not a palindrome.\n"
     ]
    }
   ],
   "source": [
    "# Convert the string to lowercase to make the check case-insensitive\n",
    "normalized_string = user_string.lower()\n",
    "\n",
    "# Reverse the string using slicing\n",
    "reversed_string = normalized_string[::-1]\n",
    "\n",
    "# Check if the original string is equal to the reversed string\n",
    "if normalized_string == reversed_string:\n",
    "    print(\"The string is a palindrome.\")\n",
    "else:\n",
    "    print(\"The string is not a palindrome.\")"
   ]
  },
  {
   "cell_type": "code",
   "execution_count": null,
   "id": "2dc7a9b4-9a6f-4969-9854-c7b9a2d20f3a",
   "metadata": {},
   "outputs": [],
   "source": [
    "#5. Create a program that takes a string as input and removes all the spaces from it. Print the modified string without spaces."
   ]
  },
  {
   "cell_type": "code",
   "execution_count": 24,
   "id": "d1c5d4e5-1fef-480f-a730-24e7f7274d6f",
   "metadata": {},
   "outputs": [
    {
     "name": "stdin",
     "output_type": "stream",
     "text": [
      "Enter a string:  I AM GROOT\n"
     ]
    }
   ],
   "source": [
    "# Take the string as input from the user\n",
    "user_string = input(\"Enter a string: \")"
   ]
  },
  {
   "cell_type": "code",
   "execution_count": 25,
   "id": "34b6d338-8dcf-4691-afc5-df55d3bfb8ed",
   "metadata": {},
   "outputs": [
    {
     "name": "stdout",
     "output_type": "stream",
     "text": [
      "The modified string without spaces is: IAMGROOT\n"
     ]
    }
   ],
   "source": [
    "# Remove all spaces from the string\n",
    "modified_string = user_string.replace(\" \", \"\")\n",
    "\n",
    "# Display the modified string without spaces\n",
    "print(\"The modified string without spaces is:\", modified_string)"
   ]
  },
  {
   "cell_type": "code",
   "execution_count": null,
   "id": "1ae2f7c1-1d17-45a1-b8a2-3039b5f03a9f",
   "metadata": {},
   "outputs": [],
   "source": []
  }
 ],
 "metadata": {
  "kernelspec": {
   "display_name": "Python 3 (ipykernel)",
   "language": "python",
   "name": "python3"
  },
  "language_info": {
   "codemirror_mode": {
    "name": "ipython",
    "version": 3
   },
   "file_extension": ".py",
   "mimetype": "text/x-python",
   "name": "python",
   "nbconvert_exporter": "python",
   "pygments_lexer": "ipython3",
   "version": "3.10.8"
  }
 },
 "nbformat": 4,
 "nbformat_minor": 5
}
