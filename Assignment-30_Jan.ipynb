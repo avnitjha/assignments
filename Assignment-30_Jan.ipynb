{
 "cells": [
  {
   "cell_type": "markdown",
   "id": "88ee63e3-26bc-4cf4-823e-004d6543b3d4",
   "metadata": {},
   "source": [
    "Assignment 30th Jan"
   ]
  },
  {
   "cell_type": "code",
   "execution_count": 5,
   "id": "1c35dcb8-d2ac-461d-ab0a-cb48f457217c",
   "metadata": {},
   "outputs": [
    {
     "name": "stdin",
     "output_type": "stream",
     "text": [
      "enter your percentage  95.2\n"
     ]
    },
    {
     "name": "stdout",
     "output_type": "stream",
     "text": [
      "your grade is A\n"
     ]
    }
   ],
   "source": [
    "#Q1:\n",
    "marks= float(input(\"enter your percentage \"))\n",
    "\n",
    "if marks > 90 :\n",
    "    print(\"your grade is A\")\n",
    "elif marks > 80 and marks <= 90:\n",
    "    print(\"your grade is B\")\n",
    "elif marks >= 60 and marks <= 80:\n",
    "    print(\"your grade is C\")\n",
    "else :\n",
    "    print(\"your grade is D\")"
   ]
  },
  {
   "cell_type": "code",
   "execution_count": 8,
   "id": "bd038cb6-fb58-49f3-bb7c-3c9a967edb0f",
   "metadata": {},
   "outputs": [
    {
     "name": "stdin",
     "output_type": "stream",
     "text": [
      "enter cost_price  200\n"
     ]
    },
    {
     "name": "stdout",
     "output_type": "stream",
     "text": [
      "your road tax is 5% \n"
     ]
    }
   ],
   "source": [
    "#Q2:\n",
    "\n",
    "cost_price = float(input(\"enter cost_price \"))\n",
    "\n",
    "if cost_price > 1_00_000 :\n",
    "    print(\"your road tax is 15% \")\n",
    "elif cost_price > 50_000 and marks <= 1_00_000 :\n",
    "    print(\"your road tax is 10% \")\n",
    "else :\n",
    "    print(\"your road tax is 5% \")"
   ]
  },
  {
   "cell_type": "code",
   "execution_count": 5,
   "id": "baee2a09-4b1c-40fc-a4d6-e46465ff66c3",
   "metadata": {},
   "outputs": [
    {
     "name": "stdin",
     "output_type": "stream",
     "text": [
      " Enter city name to see monument Jaipur\n"
     ]
    },
    {
     "name": "stdout",
     "output_type": "stream",
     "text": [
      "Monument is Jal Mahal \n"
     ]
    }
   ],
   "source": [
    "#Q3:\n",
    "\n",
    "\n",
    "user_ip = input(\" Enter city name to see monument\")\n",
    "\n",
    "if user_ip == \"Delhi\" :\n",
    "    print(\"Monument is Red Fort\")\n",
    "elif user_ip == \"Agra\" :\n",
    "    print(\"Monument is Taj Mahal \")\n",
    "elif user_ip == \"Jaipur\" :\n",
    "    print(\"Monument is Jal Mahal \")\n",
    "else :\n",
    "    print(\"Data unavailable\")"
   ]
  },
  {
   "cell_type": "code",
   "execution_count": 19,
   "id": "939db17b-6a33-4387-a14f-22c4bb6abb5c",
   "metadata": {},
   "outputs": [
    {
     "name": "stdin",
     "output_type": "stream",
     "text": [
      "enter a number 99\n"
     ]
    },
    {
     "name": "stdout",
     "output_type": "stream",
     "text": [
      "number of times this number can be divided by 3 before it becomes less than 10 is  3\n"
     ]
    }
   ],
   "source": [
    "#Q4:\n",
    "\n",
    "a=int(input(\"enter a number\"))\n",
    "i=0\n",
    "while a>10:\n",
    "    a=a/3\n",
    "    i=i+1\n",
    "print(\"number of times this number can be divided by 3 before it becomes less than 10 is \", i)\n",
    "    \n",
    "    \n",
    "    "
   ]
  },
  {
   "cell_type": "markdown",
   "id": "759fc8d8-3018-498f-a263-bb27b3ad7a4e",
   "metadata": {},
   "source": [
    "#Q5 :\n",
    "\n",
    "While loop statements in Python are used to repeatedly execute a certain statement as long as the condition provided in the while loop statement stays true. While loops let the program control to iterate over a block of code.\n",
    "\n",
    "example:\n",
    "# program to display numbers from 1 to 5\n",
    "\n",
    "# initialize the variable\n",
    "i = 1\n",
    "n = 5\n",
    "\n",
    "# while loop from i = 1 to 5\n",
    "while i <= n:\n",
    "    print(i)\n",
    "    i = i + 1\n"
   ]
  },
  {
   "cell_type": "markdown",
   "id": "8f1e240c-2841-4431-9ac7-449af430cfc3",
   "metadata": {},
   "source": [
    "# Q6 : To Display patterns "
   ]
  },
  {
   "cell_type": "code",
   "execution_count": 23,
   "id": "05349ff9-7b75-4c49-9a07-e7a59efcbe2f",
   "metadata": {},
   "outputs": [
    {
     "name": "stdin",
     "output_type": "stream",
     "text": [
      "Enter number of rows :  5\n"
     ]
    },
    {
     "name": "stdout",
     "output_type": "stream",
     "text": [
      "* \n",
      "* * \n",
      "* * * \n",
      "* * * * \n",
      "* * * * * \n"
     ]
    }
   ],
   "source": [
    "#Q6 :\n",
    "n = int(input('Enter number of rows : '))\n",
    " \n",
    "i = 1\n",
    "while i <= n :\n",
    "    j = 1\n",
    "    while j <= i:\n",
    "        print(\"*\", end = \" \")\n",
    "        j += 1\n",
    "    print()\n",
    "    i += 1"
   ]
  },
  {
   "cell_type": "code",
   "execution_count": 13,
   "id": "776c9148-984b-4e36-a55a-95585c0de50a",
   "metadata": {},
   "outputs": [
    {
     "name": "stdin",
     "output_type": "stream",
     "text": [
      "enter number of rows :  10\n"
     ]
    },
    {
     "name": "stdout",
     "output_type": "stream",
     "text": [
      "$ $ $ $ $ $ $ $ $ $ \n",
      "$ $ $ $ $ $ $ $ $ \n",
      "$ $ $ $ $ $ $ $ \n",
      "$ $ $ $ $ $ $ \n",
      "$ $ $ $ $ $ \n",
      "$ $ $ $ $ \n",
      "$ $ $ $ \n",
      "$ $ $ \n",
      "$ $ \n",
      "$ \n"
     ]
    }
   ],
   "source": [
    "a = int(input(\"enter number of rows : \"))\n",
    "\n",
    "i = 1\n",
    "while i <= a:\n",
    "    j=a\n",
    "    while j >= i:\n",
    "        print(\"$\", end = \" \")\n",
    "        j -= 1\n",
    "    print()\n",
    "    i+= 1"
   ]
  },
  {
   "cell_type": "code",
   "execution_count": 2,
   "id": "dd7ef43f-e1f2-4796-adef-d8f0d0a6c8eb",
   "metadata": {},
   "outputs": [
    {
     "name": "stdin",
     "output_type": "stream",
     "text": [
      "enter the number of rows 5\n"
     ]
    },
    {
     "name": "stdout",
     "output_type": "stream",
     "text": [
      "@ \n",
      "@ @ \n",
      "@ @ @ \n",
      "@ @ @ @ \n",
      "@ @ @ @ @ \n"
     ]
    }
   ],
   "source": [
    "x = int(input(\"enter the number of rows\"))\n",
    "\n",
    "i = 1\n",
    "\n",
    "while i<=a:\n",
    "    j=1\n",
    "    while j<=i:\n",
    "        print(\"@\", end = \" \")\n",
    "        j += 1\n",
    "    print()\n",
    "    i+=1"
   ]
  },
  {
   "cell_type": "code",
   "execution_count": 14,
   "id": "4f399ac0-06dd-46c0-95f3-4081f87be71a",
   "metadata": {},
   "outputs": [
    {
     "name": "stdin",
     "output_type": "stream",
     "text": [
      "enter the number of rows 10\n"
     ]
    },
    {
     "name": "stdout",
     "output_type": "stream",
     "text": [
      "@ @ @ @ @ @ @ @ @ @ \n",
      "@ @ @ @ @ @ @ @ @ \n",
      "@ @ @ @ @ @ @ @ \n",
      "@ @ @ @ @ @ @ \n",
      "@ @ @ @ @ @ \n",
      "@ @ @ @ @ \n",
      "@ @ @ @ \n",
      "@ @ @ \n",
      "@ @ \n",
      "@ \n"
     ]
    }
   ],
   "source": [
    "x = int(input(\"enter the number of rows\"))\n",
    "\n",
    "i = 1\n",
    "\n",
    "while i<=a:\n",
    "    j=a\n",
    "    while j>=i:\n",
    "        print(\"@\", end = \" \")\n",
    "        j -= 1\n",
    "    print()\n",
    "    i+=1"
   ]
  },
  {
   "cell_type": "markdown",
   "id": "8b6d621a-01fc-4d54-b880-e6c4eec87522",
   "metadata": {},
   "source": [
    "#Q7 and Q8:"
   ]
  },
  {
   "cell_type": "code",
   "execution_count": 15,
   "id": "36054e00-05f1-4672-9adb-041c7471fe46",
   "metadata": {},
   "outputs": [
    {
     "name": "stdout",
     "output_type": "stream",
     "text": [
      "10\n",
      "9\n",
      "8\n",
      "7\n",
      "6\n",
      "5\n",
      "4\n",
      "3\n",
      "2\n",
      "1\n"
     ]
    }
   ],
   "source": [
    "i=10\n",
    "while i != 0:\n",
    "    print(i)\n",
    "    i = i-1"
   ]
  }
 ],
 "metadata": {
  "kernelspec": {
   "display_name": "Python 3 (ipykernel)",
   "language": "python",
   "name": "python3"
  },
  "language_info": {
   "codemirror_mode": {
    "name": "ipython",
    "version": 3
   },
   "file_extension": ".py",
   "mimetype": "text/x-python",
   "name": "python",
   "nbconvert_exporter": "python",
   "pygments_lexer": "ipython3",
   "version": "3.10.8"
  }
 },
 "nbformat": 4,
 "nbformat_minor": 5
}
