{
 "cells": [
  {
   "cell_type": "markdown",
   "id": "ff85d14c-59c3-4615-b774-6f0e1be2ea99",
   "metadata": {},
   "source": [
    "# Q1 :"
   ]
  },
  {
   "cell_type": "markdown",
   "id": "dad160c4-5b4f-4c14-b22e-9a8b6ab0180c",
   "metadata": {},
   "source": [
    "The keyword used to create a function is called def. it is used to define a function."
   ]
  },
  {
   "cell_type": "code",
   "execution_count": 15,
   "id": "8677c611-19c6-470e-886f-ac86877d616e",
   "metadata": {},
   "outputs": [],
   "source": [
    "def odd_num(a):\n",
    "    l1=[]\n",
    "    for i in a:\n",
    "        \n",
    "        if i%2 != 0:\n",
    "            l1.append(i)\n",
    "    return l1\n",
    "        "
   ]
  },
  {
   "cell_type": "code",
   "execution_count": 16,
   "id": "96a0392f-3f11-49f1-badd-085cd2eaa274",
   "metadata": {},
   "outputs": [],
   "source": [
    "l = list(range(1,25))"
   ]
  },
  {
   "cell_type": "code",
   "execution_count": 17,
   "id": "9af66e17-0d9b-4309-a0e8-f972dd03a110",
   "metadata": {},
   "outputs": [
    {
     "data": {
      "text/plain": [
       "[1, 3, 5, 7, 9, 11, 13, 15, 17, 19, 21, 23]"
      ]
     },
     "execution_count": 17,
     "metadata": {},
     "output_type": "execute_result"
    }
   ],
   "source": [
    "odd_num(l)"
   ]
  },
  {
   "cell_type": "markdown",
   "id": "e3e4ed53-d4bf-4855-bf9b-5dc679311007",
   "metadata": {},
   "source": [
    "# Q2 :"
   ]
  },
  {
   "cell_type": "markdown",
   "id": "51674a69-b66f-4c0b-b548-fd0025db4a92",
   "metadata": {},
   "source": [
    "*args and **kwargs allow you to pass multiple arguments or keyword arguments to a function."
   ]
  },
  {
   "cell_type": "code",
   "execution_count": 18,
   "id": "97c53a9a-fa92-4cec-82b2-f54e7eb7fdd2",
   "metadata": {},
   "outputs": [],
   "source": [
    "def test_sum(*args):\n",
    "    return sum(args)"
   ]
  },
  {
   "cell_type": "code",
   "execution_count": 19,
   "id": "29e7b257-d5f2-49c3-9fdc-04a259452474",
   "metadata": {},
   "outputs": [
    {
     "data": {
      "text/plain": [
       "26"
      ]
     },
     "execution_count": 19,
     "metadata": {},
     "output_type": "execute_result"
    }
   ],
   "source": [
    "test_sum(12,13,1)"
   ]
  },
  {
   "cell_type": "markdown",
   "id": "5a7b21b7-c0c9-4f9d-ad36-38bc8f00fc10",
   "metadata": {},
   "source": [
    "**kwargs works just like *args, but instead of accepting positional arguments it accepts keyword (or named) arguments."
   ]
  },
  {
   "cell_type": "code",
   "execution_count": 20,
   "id": "93f44ff2-ae01-46b6-b4f5-ebe7f36e4a42",
   "metadata": {},
   "outputs": [],
   "source": [
    "def test_kw(**kwargs):\n",
    "    return kwargs"
   ]
  },
  {
   "cell_type": "code",
   "execution_count": 21,
   "id": "7336c6c6-5348-4ed0-8c48-9644d4a78360",
   "metadata": {},
   "outputs": [
    {
     "data": {
      "text/plain": [
       "{'a': [1, 2, 3, 4, 5, 6], 'b': 'Avnit', 'c': 17.55}"
      ]
     },
     "execution_count": 21,
     "metadata": {},
     "output_type": "execute_result"
    }
   ],
   "source": [
    "test_kw(a=[1,2,3,4,5,6],b=\"Avnit\",c=17.55)"
   ]
  },
  {
   "cell_type": "markdown",
   "id": "01a79d1c-8a5a-4417-8bf3-ff1178c68e49",
   "metadata": {},
   "source": [
    "# Q3 :"
   ]
  },
  {
   "cell_type": "markdown",
   "id": "173bd037-7a69-4edc-9c95-8d8dd04233f6",
   "metadata": {},
   "source": [
    "Iterator in Python is an object that is used to iterate over iterable objects like lists, tuples, dicts, and sets. The iterator object is initialized using the iter() method. It uses the next() method for iteration.\n",
    "\n",
    "__iter__(): The iter() method is called for the initialization of an iterator. This returns an iterator object\n"
   ]
  },
  {
   "cell_type": "code",
   "execution_count": 13,
   "id": "2bd14313-37ca-4ac2-9a55-42911194b70a",
   "metadata": {},
   "outputs": [],
   "source": [
    "l=[2,4,6,8,10,12,14,16,18,20]"
   ]
  },
  {
   "cell_type": "code",
   "execution_count": 14,
   "id": "b9d21c5c-6c19-46a8-94af-c58cfd220ce9",
   "metadata": {},
   "outputs": [],
   "source": [
    "l1=iter(l)"
   ]
  },
  {
   "cell_type": "code",
   "execution_count": 15,
   "id": "ada31466-9dd6-402e-bb7f-f55d4c5fd31e",
   "metadata": {},
   "outputs": [
    {
     "data": {
      "text/plain": [
       "2"
      ]
     },
     "execution_count": 15,
     "metadata": {},
     "output_type": "execute_result"
    }
   ],
   "source": [
    "next(l1)"
   ]
  },
  {
   "cell_type": "code",
   "execution_count": 16,
   "id": "7df4cf4f-9087-4606-b21a-f96e3524bdca",
   "metadata": {},
   "outputs": [
    {
     "data": {
      "text/plain": [
       "4"
      ]
     },
     "execution_count": 16,
     "metadata": {},
     "output_type": "execute_result"
    }
   ],
   "source": [
    "next(l1)"
   ]
  },
  {
   "cell_type": "code",
   "execution_count": 17,
   "id": "d8483007-0dcf-4916-8ee3-bea6aadbe1c7",
   "metadata": {},
   "outputs": [
    {
     "data": {
      "text/plain": [
       "6"
      ]
     },
     "execution_count": 17,
     "metadata": {},
     "output_type": "execute_result"
    }
   ],
   "source": [
    "next(l1)"
   ]
  },
  {
   "cell_type": "code",
   "execution_count": 18,
   "id": "45a37d6f-cc5f-4f6b-97af-3ee526104f33",
   "metadata": {},
   "outputs": [
    {
     "data": {
      "text/plain": [
       "8"
      ]
     },
     "execution_count": 18,
     "metadata": {},
     "output_type": "execute_result"
    }
   ],
   "source": [
    "next(l1)"
   ]
  },
  {
   "cell_type": "code",
   "execution_count": 19,
   "id": "fbb5c1e4-96e3-4578-9d08-2769297fba44",
   "metadata": {},
   "outputs": [
    {
     "data": {
      "text/plain": [
       "10"
      ]
     },
     "execution_count": 19,
     "metadata": {},
     "output_type": "execute_result"
    }
   ],
   "source": [
    "next(l1)"
   ]
  },
  {
   "cell_type": "markdown",
   "id": "7909ceb3-2e81-4409-9497-e8963af660c2",
   "metadata": {},
   "source": [
    "# Q4 :"
   ]
  },
  {
   "cell_type": "markdown",
   "id": "6add0b4b-1627-4c09-87c9-e401f1d79596",
   "metadata": {},
   "source": [
    "Python provides a generator to create your own iterator function. A generator is a special type of function which does not return a single value, instead, it returns an iterator object with a sequence of values. In a generator function, a yield statement is used rather than a return statement. The following is a simple generator function.\n"
   ]
  },
  {
   "cell_type": "code",
   "execution_count": 5,
   "id": "d37375a5-0538-4205-82e1-28800dcfcc8b",
   "metadata": {},
   "outputs": [],
   "source": [
    "def mygenerator():\n",
    "    print('First item')\n",
    "    yield 10\n",
    "\n",
    "    print('Second item')\n",
    "    yield 20\n",
    "\n",
    "    print('Last item')\n",
    "    yield 30"
   ]
  },
  {
   "cell_type": "markdown",
   "id": "234d5e9d-208a-482e-8142-0ef584626c96",
   "metadata": {},
   "source": [
    "In the above example, the mygenerator() function is a generator function. It uses yield instead of return keyword. So, this will return the value against the yield keyword each time it is called. However, we need to create an iterator for this function, as shown below:"
   ]
  },
  {
   "cell_type": "code",
   "execution_count": 6,
   "id": "eea3ae65-12c6-4a4e-982d-28cdfbc1db16",
   "metadata": {},
   "outputs": [],
   "source": [
    "gen = mygenerator() "
   ]
  },
  {
   "cell_type": "code",
   "execution_count": 7,
   "id": "39c21f05-54c5-4fe9-b723-fd6553c949e9",
   "metadata": {},
   "outputs": [
    {
     "name": "stdout",
     "output_type": "stream",
     "text": [
      "First item\n"
     ]
    },
    {
     "data": {
      "text/plain": [
       "10"
      ]
     },
     "execution_count": 7,
     "metadata": {},
     "output_type": "execute_result"
    }
   ],
   "source": [
    "next(gen)"
   ]
  },
  {
   "cell_type": "code",
   "execution_count": 8,
   "id": "a1790982-29d3-4e56-b3bc-527e3243f94d",
   "metadata": {},
   "outputs": [
    {
     "name": "stdout",
     "output_type": "stream",
     "text": [
      "Second item\n"
     ]
    },
    {
     "data": {
      "text/plain": [
       "20"
      ]
     },
     "execution_count": 8,
     "metadata": {},
     "output_type": "execute_result"
    }
   ],
   "source": [
    "next(gen)"
   ]
  },
  {
   "cell_type": "code",
   "execution_count": 9,
   "id": "d3590680-9122-4ed2-bea0-d1bd1b98dfba",
   "metadata": {},
   "outputs": [
    {
     "name": "stdout",
     "output_type": "stream",
     "text": [
      "Last item\n"
     ]
    },
    {
     "data": {
      "text/plain": [
       "30"
      ]
     },
     "execution_count": 9,
     "metadata": {},
     "output_type": "execute_result"
    }
   ],
   "source": [
    "next(gen)"
   ]
  },
  {
   "cell_type": "markdown",
   "id": "1f89989b-b295-42a5-bfa0-d570d1f3aa39",
   "metadata": {},
   "source": [
    "# Q 5:"
   ]
  },
  {
   "cell_type": "code",
   "execution_count": 1,
   "id": "e1013309-2608-49e8-b9bc-443bab747c78",
   "metadata": {},
   "outputs": [],
   "source": [
    "def genprimes(limit): \n",
    "                      \n",
    "    D = {}            \n",
    "    q = 2\n",
    "\n",
    "    while q <= limit:\n",
    "        if q not in D:\n",
    "            yield q\n",
    "            D[q * q] = [q]\n",
    "        else:\n",
    "            for p in D[q]:\n",
    "                D.setdefault(p + q, []).append(p)\n",
    "            del D[q]\n",
    "        q += 1\n",
    "\n"
   ]
  },
  {
   "cell_type": "code",
   "execution_count": 44,
   "id": "2977a98c-6958-453f-9627-ff669745bcab",
   "metadata": {},
   "outputs": [],
   "source": [
    "p = genprimes(1000)\n",
    "prms = iter([i for i in p])"
   ]
  },
  {
   "cell_type": "code",
   "execution_count": 45,
   "id": "6e8b7ca4-5fbd-4712-a87d-1c7a5ea3d30d",
   "metadata": {},
   "outputs": [
    {
     "data": {
      "text/plain": [
       "2"
      ]
     },
     "execution_count": 45,
     "metadata": {},
     "output_type": "execute_result"
    }
   ],
   "source": [
    "next(prms)"
   ]
  },
  {
   "cell_type": "code",
   "execution_count": 46,
   "id": "c2ada53b-23a8-4eda-905a-5a3eafbe017c",
   "metadata": {},
   "outputs": [
    {
     "data": {
      "text/plain": [
       "3"
      ]
     },
     "execution_count": 46,
     "metadata": {},
     "output_type": "execute_result"
    }
   ],
   "source": [
    "next(prms)"
   ]
  },
  {
   "cell_type": "code",
   "execution_count": 47,
   "id": "5fbe5380-7e7e-4403-9076-35ade95741f2",
   "metadata": {},
   "outputs": [
    {
     "data": {
      "text/plain": [
       "5"
      ]
     },
     "execution_count": 47,
     "metadata": {},
     "output_type": "execute_result"
    }
   ],
   "source": [
    "next(prms)"
   ]
  },
  {
   "cell_type": "code",
   "execution_count": 48,
   "id": "601818ca-98bd-47ac-a5e6-2c38a624ec27",
   "metadata": {},
   "outputs": [
    {
     "data": {
      "text/plain": [
       "7"
      ]
     },
     "execution_count": 48,
     "metadata": {},
     "output_type": "execute_result"
    }
   ],
   "source": [
    "next(prms)"
   ]
  },
  {
   "cell_type": "code",
   "execution_count": 49,
   "id": "c5f3df90-05f6-4a58-ba9b-e1573891ecd1",
   "metadata": {},
   "outputs": [
    {
     "data": {
      "text/plain": [
       "11"
      ]
     },
     "execution_count": 49,
     "metadata": {},
     "output_type": "execute_result"
    }
   ],
   "source": [
    "next(prms)"
   ]
  },
  {
   "cell_type": "code",
   "execution_count": 50,
   "id": "6cdd1b90-3917-40ee-a834-aff46fc046d7",
   "metadata": {},
   "outputs": [
    {
     "data": {
      "text/plain": [
       "13"
      ]
     },
     "execution_count": 50,
     "metadata": {},
     "output_type": "execute_result"
    }
   ],
   "source": [
    "next(prms)"
   ]
  },
  {
   "cell_type": "code",
   "execution_count": 51,
   "id": "bb2d859c-8239-4478-8ca9-1f7708d0c8eb",
   "metadata": {},
   "outputs": [
    {
     "data": {
      "text/plain": [
       "17"
      ]
     },
     "execution_count": 51,
     "metadata": {},
     "output_type": "execute_result"
    }
   ],
   "source": [
    "next(prms)"
   ]
  },
  {
   "cell_type": "code",
   "execution_count": 52,
   "id": "7b0a996a-27fc-4afb-8645-78a8b6cb0c1a",
   "metadata": {},
   "outputs": [
    {
     "data": {
      "text/plain": [
       "19"
      ]
     },
     "execution_count": 52,
     "metadata": {},
     "output_type": "execute_result"
    }
   ],
   "source": [
    "next(prms)"
   ]
  },
  {
   "cell_type": "code",
   "execution_count": 53,
   "id": "160681a2-ec72-4097-9e70-381b9096976e",
   "metadata": {},
   "outputs": [
    {
     "data": {
      "text/plain": [
       "23"
      ]
     },
     "execution_count": 53,
     "metadata": {},
     "output_type": "execute_result"
    }
   ],
   "source": [
    "next(prms)"
   ]
  },
  {
   "cell_type": "code",
   "execution_count": 54,
   "id": "0a8df3c7-6a93-4454-a59b-9ccef37b3e3d",
   "metadata": {},
   "outputs": [
    {
     "data": {
      "text/plain": [
       "29"
      ]
     },
     "execution_count": 54,
     "metadata": {},
     "output_type": "execute_result"
    }
   ],
   "source": [
    "next(prms)"
   ]
  },
  {
   "cell_type": "code",
   "execution_count": 55,
   "id": "d2bde45f-4d47-4260-8871-40d24b591dc5",
   "metadata": {},
   "outputs": [
    {
     "data": {
      "text/plain": [
       "31"
      ]
     },
     "execution_count": 55,
     "metadata": {},
     "output_type": "execute_result"
    }
   ],
   "source": [
    "next(prms)"
   ]
  },
  {
   "cell_type": "code",
   "execution_count": 56,
   "id": "8a78f57b-c861-4ab2-bc52-03c993f4d293",
   "metadata": {},
   "outputs": [
    {
     "data": {
      "text/plain": [
       "37"
      ]
     },
     "execution_count": 56,
     "metadata": {},
     "output_type": "execute_result"
    }
   ],
   "source": [
    "next(prms)"
   ]
  },
  {
   "cell_type": "code",
   "execution_count": 57,
   "id": "41c2b146-d12b-4ed0-8089-26ca5d8c2111",
   "metadata": {},
   "outputs": [
    {
     "data": {
      "text/plain": [
       "41"
      ]
     },
     "execution_count": 57,
     "metadata": {},
     "output_type": "execute_result"
    }
   ],
   "source": [
    "next(prms)"
   ]
  },
  {
   "cell_type": "code",
   "execution_count": 58,
   "id": "f35c616c-b929-4031-80fd-543edbfa952f",
   "metadata": {},
   "outputs": [
    {
     "data": {
      "text/plain": [
       "43"
      ]
     },
     "execution_count": 58,
     "metadata": {},
     "output_type": "execute_result"
    }
   ],
   "source": [
    "next(prms)"
   ]
  },
  {
   "cell_type": "code",
   "execution_count": 59,
   "id": "494274cc-17c0-458a-9735-1163f233782a",
   "metadata": {},
   "outputs": [
    {
     "data": {
      "text/plain": [
       "47"
      ]
     },
     "execution_count": 59,
     "metadata": {},
     "output_type": "execute_result"
    }
   ],
   "source": [
    "next(prms)"
   ]
  },
  {
   "cell_type": "code",
   "execution_count": 60,
   "id": "a8f3d283-1f7a-472e-a67b-14894e0ac1bd",
   "metadata": {},
   "outputs": [
    {
     "data": {
      "text/plain": [
       "53"
      ]
     },
     "execution_count": 60,
     "metadata": {},
     "output_type": "execute_result"
    }
   ],
   "source": [
    "next(prms)"
   ]
  },
  {
   "cell_type": "code",
   "execution_count": 61,
   "id": "34032d03-b669-454d-9c0b-11a7c05451e5",
   "metadata": {},
   "outputs": [
    {
     "data": {
      "text/plain": [
       "59"
      ]
     },
     "execution_count": 61,
     "metadata": {},
     "output_type": "execute_result"
    }
   ],
   "source": [
    "next(prms)"
   ]
  },
  {
   "cell_type": "code",
   "execution_count": 62,
   "id": "b2ce5d55-235c-4d8e-9cc7-6604d1a8a625",
   "metadata": {},
   "outputs": [
    {
     "data": {
      "text/plain": [
       "61"
      ]
     },
     "execution_count": 62,
     "metadata": {},
     "output_type": "execute_result"
    }
   ],
   "source": [
    "next(prms)"
   ]
  },
  {
   "cell_type": "code",
   "execution_count": 63,
   "id": "d6f22818-50f5-4683-8f52-85f4fbc82ffd",
   "metadata": {},
   "outputs": [
    {
     "data": {
      "text/plain": [
       "67"
      ]
     },
     "execution_count": 63,
     "metadata": {},
     "output_type": "execute_result"
    }
   ],
   "source": [
    "next(prms)"
   ]
  },
  {
   "cell_type": "code",
   "execution_count": 64,
   "id": "8016ed6e-4fed-4b3e-8088-53efd7c065d1",
   "metadata": {},
   "outputs": [
    {
     "data": {
      "text/plain": [
       "71"
      ]
     },
     "execution_count": 64,
     "metadata": {},
     "output_type": "execute_result"
    }
   ],
   "source": [
    "next(prms)"
   ]
  },
  {
   "cell_type": "markdown",
   "id": "df1f4605-0590-4b81-908e-4bfb4d6550cb",
   "metadata": {},
   "source": [
    "# Q 6 :"
   ]
  },
  {
   "cell_type": "code",
   "execution_count": 10,
   "id": "4dfbeb23-b603-429b-8cd9-67d14193a617",
   "metadata": {},
   "outputs": [
    {
     "name": "stdout",
     "output_type": "stream",
     "text": [
      "0\n",
      "1\n",
      "1\n",
      "2\n",
      "3\n",
      "5\n",
      "8\n",
      "13\n",
      "21\n",
      "34\n"
     ]
    }
   ],
   "source": [
    "number = 10\n",
    "a,b = 0, 1\n",
    "counter=0\n",
    "while counter < number:\n",
    "    print(a)\n",
    "    c=a+b\n",
    "    a=b\n",
    "    b=c\n",
    "    counter= counter+1\n",
    "    "
   ]
  },
  {
   "cell_type": "markdown",
   "id": "e22c23a6-152e-485c-b82b-1b7e84079527",
   "metadata": {},
   "source": [
    "# Q7 :"
   ]
  },
  {
   "cell_type": "code",
   "execution_count": 11,
   "id": "985aa92e-91fe-4eff-953d-7099a1d158a7",
   "metadata": {},
   "outputs": [],
   "source": [
    "w = \"pwskills\""
   ]
  },
  {
   "cell_type": "code",
   "execution_count": 12,
   "id": "ed2f0376-74ef-49c2-b1f3-920489ceb889",
   "metadata": {},
   "outputs": [
    {
     "data": {
      "text/plain": [
       "['p', 'w', 's', 'k', 'i', 'l', 'l', 's']"
      ]
     },
     "execution_count": 12,
     "metadata": {},
     "output_type": "execute_result"
    }
   ],
   "source": [
    "[i for i in w]"
   ]
  },
  {
   "cell_type": "markdown",
   "id": "35a4ca64-fd38-402b-85b1-06fbd841a0c1",
   "metadata": {},
   "source": [
    "# Q 8 :"
   ]
  },
  {
   "cell_type": "code",
   "execution_count": 13,
   "id": "ca325e92-8f15-468c-8d3d-197a4811f66e",
   "metadata": {},
   "outputs": [],
   "source": [
    "def ispalindrome(s):\n",
    "    return s == s[::-1]"
   ]
  },
  {
   "cell_type": "code",
   "execution_count": 16,
   "id": "9982b24a-678a-4001-a602-06668c51d1e3",
   "metadata": {},
   "outputs": [
    {
     "name": "stdin",
     "output_type": "stream",
     "text": [
      "enter the string to check :  malayalam\n"
     ]
    },
    {
     "name": "stdout",
     "output_type": "stream",
     "text": [
      "yes, it is a palindrome\n"
     ]
    }
   ],
   "source": [
    "inp = input(\"enter the string to check : \")\n",
    "ans = ispalindrome(inp)\n",
    "if ans:\n",
    "    print(\"yes, it is a palindrome\")\n",
    "else:\n",
    "    print(\"Not a palindrome\")\n"
   ]
  },
  {
   "cell_type": "code",
   "execution_count": 26,
   "id": "5b56514b-feb9-4f34-875e-65ee06e450f5",
   "metadata": {},
   "outputs": [],
   "source": [
    "l = [i for i in list(range(1,101))]\n",
    "odd_num = [i for i in l if i%2!=0]"
   ]
  },
  {
   "cell_type": "code",
   "execution_count": 27,
   "id": "5452cc94-8201-48f2-a63f-2f0db278110d",
   "metadata": {},
   "outputs": [
    {
     "data": {
      "text/plain": [
       "[1,\n",
       " 3,\n",
       " 5,\n",
       " 7,\n",
       " 9,\n",
       " 11,\n",
       " 13,\n",
       " 15,\n",
       " 17,\n",
       " 19,\n",
       " 21,\n",
       " 23,\n",
       " 25,\n",
       " 27,\n",
       " 29,\n",
       " 31,\n",
       " 33,\n",
       " 35,\n",
       " 37,\n",
       " 39,\n",
       " 41,\n",
       " 43,\n",
       " 45,\n",
       " 47,\n",
       " 49,\n",
       " 51,\n",
       " 53,\n",
       " 55,\n",
       " 57,\n",
       " 59,\n",
       " 61,\n",
       " 63,\n",
       " 65,\n",
       " 67,\n",
       " 69,\n",
       " 71,\n",
       " 73,\n",
       " 75,\n",
       " 77,\n",
       " 79,\n",
       " 81,\n",
       " 83,\n",
       " 85,\n",
       " 87,\n",
       " 89,\n",
       " 91,\n",
       " 93,\n",
       " 95,\n",
       " 97,\n",
       " 99]"
      ]
     },
     "execution_count": 27,
     "metadata": {},
     "output_type": "execute_result"
    }
   ],
   "source": [
    "odd_num"
   ]
  },
  {
   "cell_type": "code",
   "execution_count": null,
   "id": "d76b4981-7331-4aa0-b6fc-4fb90343e98e",
   "metadata": {},
   "outputs": [],
   "source": []
  }
 ],
 "metadata": {
  "kernelspec": {
   "display_name": "Python 3 (ipykernel)",
   "language": "python",
   "name": "python3"
  },
  "language_info": {
   "codemirror_mode": {
    "name": "ipython",
    "version": 3
   },
   "file_extension": ".py",
   "mimetype": "text/x-python",
   "name": "python",
   "nbconvert_exporter": "python",
   "pygments_lexer": "ipython3",
   "version": "3.10.8"
  }
 },
 "nbformat": 4,
 "nbformat_minor": 5
}
