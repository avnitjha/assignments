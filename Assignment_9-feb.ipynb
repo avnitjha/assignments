{
 "cells": [
  {
   "cell_type": "markdown",
   "id": "833d03ce-a04f-45b4-95ad-9fdb8350d105",
   "metadata": {},
   "source": [
    "# Q 1 :"
   ]
  },
  {
   "cell_type": "code",
   "execution_count": 30,
   "id": "427fe7e2-0102-4a4a-87ef-addfab3f3b74",
   "metadata": {},
   "outputs": [],
   "source": [
    "class vehicle:\n",
    "    \n",
    "    def __init__(self,name_of_vehicle, max_speed,average_of_vehicle):\n",
    "        self.name_of_vehicle = name_of_vehicle\n",
    "        self.max_speed = max_speed\n",
    "        self.average_of_vehicle = average_of_vehicle\n",
    "    \n",
    "    \n",
    "        "
   ]
  },
  {
   "cell_type": "markdown",
   "id": "60a65fb3-6c1e-4f4a-82c7-6ac7424bb31e",
   "metadata": {},
   "source": [
    "# Q 2 :"
   ]
  },
  {
   "cell_type": "code",
   "execution_count": 31,
   "id": "eac77234-52bd-4c94-9b37-0ff033ab72d4",
   "metadata": {},
   "outputs": [],
   "source": [
    "class car(vehicle):\n",
    "    def seating_capacity (self,cap):\n",
    "        return self.name_of_vehicle, cap"
   ]
  },
  {
   "cell_type": "code",
   "execution_count": 32,
   "id": "3245f80f-0b9f-486d-9679-eb6cad1afaa8",
   "metadata": {},
   "outputs": [],
   "source": [
    "car_obj = car(\"alto\",50,20)"
   ]
  },
  {
   "cell_type": "code",
   "execution_count": 33,
   "id": "9690793d-bba0-4979-8786-6a46b201ef73",
   "metadata": {},
   "outputs": [
    {
     "data": {
      "text/plain": [
       "('alto', 5)"
      ]
     },
     "execution_count": 33,
     "metadata": {},
     "output_type": "execute_result"
    }
   ],
   "source": [
    "car_obj.seating_capacity(5)"
   ]
  },
  {
   "cell_type": "markdown",
   "id": "237099e4-5c3b-48e1-80b5-f11b25260a0a",
   "metadata": {},
   "source": [
    "# Q 3 :"
   ]
  },
  {
   "cell_type": "markdown",
   "id": "cc70b475-dd00-49f7-9937-86c8ff9177b9",
   "metadata": {},
   "source": [
    "When a class is derived from more than one base class it is called multiple Inheritance. The derived class inherits all the features of the base case."
   ]
  },
  {
   "cell_type": "code",
   "execution_count": 34,
   "id": "2556d685-d8fa-4dcb-9d10-b6fd1851f023",
   "metadata": {},
   "outputs": [],
   "source": [
    "class class1:\n",
    "    def test_class1(self):\n",
    "        return \"this is class 1\""
   ]
  },
  {
   "cell_type": "code",
   "execution_count": 35,
   "id": "41ff7165-abad-41ee-a212-7bcf30821ca2",
   "metadata": {},
   "outputs": [],
   "source": [
    "class class2:\n",
    "    \n",
    "    def test_class2(self):\n",
    "        return \"this is class 2\""
   ]
  },
  {
   "cell_type": "code",
   "execution_count": 36,
   "id": "c0532726-49b6-43ca-856a-34c75ef4797a",
   "metadata": {},
   "outputs": [],
   "source": [
    "class class3(class1, class2):\n",
    "    pass"
   ]
  },
  {
   "cell_type": "code",
   "execution_count": 37,
   "id": "9a360cf1-5e6e-4b40-aa21-885dfdfd56e5",
   "metadata": {},
   "outputs": [],
   "source": [
    "class3_obj = class3()"
   ]
  },
  {
   "cell_type": "code",
   "execution_count": 38,
   "id": "e57a550d-8218-46b3-b188-f146bf6e7a30",
   "metadata": {},
   "outputs": [
    {
     "data": {
      "text/plain": [
       "'this is class 1'"
      ]
     },
     "execution_count": 38,
     "metadata": {},
     "output_type": "execute_result"
    }
   ],
   "source": [
    "class3_obj.test_class1()"
   ]
  },
  {
   "cell_type": "code",
   "execution_count": 39,
   "id": "5de9c6f5-8328-4bfb-8b64-b395888ca9d9",
   "metadata": {},
   "outputs": [
    {
     "data": {
      "text/plain": [
       "'this is class 2'"
      ]
     },
     "execution_count": 39,
     "metadata": {},
     "output_type": "execute_result"
    }
   ],
   "source": [
    "class3_obj.test_class2()"
   ]
  },
  {
   "cell_type": "markdown",
   "id": "ac2b7927-421a-407d-8100-f3fedaad3426",
   "metadata": {},
   "source": [
    "# Q 4:"
   ]
  },
  {
   "cell_type": "markdown",
   "id": "462d5ef8-a440-4199-870c-916dd095013e",
   "metadata": {},
   "source": [
    "Getter: A method that allows you to access an attribute in a given class.\n",
    "\n",
    "Setter: A method that allows you to set or mutate the value of an attribute in a class."
   ]
  },
  {
   "cell_type": "code",
   "execution_count": 40,
   "id": "d6c5060c-5db6-428e-a068-8148e50bfa05",
   "metadata": {},
   "outputs": [],
   "source": [
    "class Label:\n",
    "    def __init__(self, text, font):\n",
    "        self._text = text\n",
    "        self._font = font\n",
    "\n",
    "    def get_text(self):\n",
    "        return self._text\n",
    "\n",
    "    def set_text(self, value):\n",
    "        self._text = value\n",
    "\n",
    "    def get_font(self):\n",
    "        return self._font\n",
    "\n",
    "    def set_font(self, value):\n",
    "        self._font = value"
   ]
  },
  {
   "cell_type": "code",
   "execution_count": 45,
   "id": "e6f0e2ae-2d1e-49c1-a654-9e833fae22cc",
   "metadata": {},
   "outputs": [
    {
     "data": {
      "text/plain": [
       "'Fruits'"
      ]
     },
     "execution_count": 45,
     "metadata": {},
     "output_type": "execute_result"
    }
   ],
   "source": [
    "label = Label(\"Fruits\", \"JetBrains Mono NL\")\n",
    "label.get_text()"
   ]
  },
  {
   "cell_type": "code",
   "execution_count": 46,
   "id": "6ab2e029-6496-4815-a0ae-740c214385aa",
   "metadata": {},
   "outputs": [],
   "source": [
    "label.set_text(\"Vegetables\")"
   ]
  },
  {
   "cell_type": "code",
   "execution_count": 47,
   "id": "99aac0ad-d969-4ab7-8881-b4cc5f6c1652",
   "metadata": {},
   "outputs": [
    {
     "data": {
      "text/plain": [
       "'Vegetables'"
      ]
     },
     "execution_count": 47,
     "metadata": {},
     "output_type": "execute_result"
    }
   ],
   "source": [
    "label.get_text()"
   ]
  },
  {
   "cell_type": "code",
   "execution_count": 48,
   "id": "b2b9c64a-317f-4bb5-92ec-28e222d362c8",
   "metadata": {},
   "outputs": [
    {
     "data": {
      "text/plain": [
       "'JetBrains Mono NL'"
      ]
     },
     "execution_count": 48,
     "metadata": {},
     "output_type": "execute_result"
    }
   ],
   "source": [
    "label.get_font()"
   ]
  },
  {
   "cell_type": "markdown",
   "id": "ce492c3f-03a7-4f16-98d3-264b3c52cd3d",
   "metadata": {},
   "source": [
    "# Q 5:"
   ]
  },
  {
   "cell_type": "markdown",
   "id": "9a5678f1-d741-4b79-9250-63a1f16f334f",
   "metadata": {},
   "source": [
    "Method overriding is an ability of any object-oriented programming language that allows a subclass or child class to provide a specific implementation of a method that is already provided by one of its super-classes or parent classes. When a method in a subclass has the same name, same parameters or signature and same return type(or sub-type) as a method in its super-class, then the method in the subclass is said to override the method in the super-class."
   ]
  },
  {
   "cell_type": "code",
   "execution_count": 50,
   "id": "4b26c10d-9669-44ea-aabf-032738c98709",
   "metadata": {},
   "outputs": [],
   "source": [
    "\n",
    "# Python program to demonstrate \n",
    "# method overriding\n",
    "\n",
    "# Defining parent class  \n",
    "class Parent():\n",
    "        \n",
    "      \n",
    "    # Constructor\n",
    "    def __init__(self):\n",
    "        self.value = \"Inside Parent\"\n",
    "          \n",
    "    # Parent's show method\n",
    "    def show(self):\n",
    "        print(self.value)\n",
    "          "
   ]
  },
  {
   "cell_type": "code",
   "execution_count": 51,
   "id": "0a4fed7d-a7b2-4948-820d-b163dfef8877",
   "metadata": {},
   "outputs": [],
   "source": [
    "# Defining child class\n",
    "class Child(Parent):\n",
    "      \n",
    "    # Constructor\n",
    "    def __init__(self):\n",
    "        self.value = \"Inside Child\"\n",
    "          \n",
    "    # Child's show method\n",
    "    def show(self):\n",
    "        print(self.value)"
   ]
  },
  {
   "cell_type": "code",
   "execution_count": 53,
   "id": "c4de8cf2-09a6-4284-95de-07a73b344923",
   "metadata": {},
   "outputs": [
    {
     "name": "stdout",
     "output_type": "stream",
     "text": [
      "Inside Parent\n"
     ]
    }
   ],
   "source": [
    "# Driver's code\n",
    "obj1 = Parent()\n",
    "obj2 = Child()\n",
    "  \n",
    "obj1.show()"
   ]
  },
  {
   "cell_type": "code",
   "execution_count": 54,
   "id": "9d95d425-7252-4d02-b77e-997986a3e579",
   "metadata": {},
   "outputs": [
    {
     "name": "stdout",
     "output_type": "stream",
     "text": [
      "Inside Child\n"
     ]
    }
   ],
   "source": [
    "obj2.show()"
   ]
  },
  {
   "cell_type": "code",
   "execution_count": null,
   "id": "f4a7230b-b8d6-4651-8cd1-5c589029c8d1",
   "metadata": {},
   "outputs": [],
   "source": []
  }
 ],
 "metadata": {
  "kernelspec": {
   "display_name": "Python 3 (ipykernel)",
   "language": "python",
   "name": "python3"
  },
  "language_info": {
   "codemirror_mode": {
    "name": "ipython",
    "version": 3
   },
   "file_extension": ".py",
   "mimetype": "text/x-python",
   "name": "python",
   "nbconvert_exporter": "python",
   "pygments_lexer": "ipython3",
   "version": "3.10.8"
  }
 },
 "nbformat": 4,
 "nbformat_minor": 5
}
