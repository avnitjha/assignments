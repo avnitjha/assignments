{
 "cells": [
  {
   "cell_type": "code",
   "execution_count": 9,
   "id": "83281c61-27d2-4b4f-a2d1-c1bfbbdc02af",
   "metadata": {},
   "outputs": [],
   "source": [
    "import numpy as np"
   ]
  },
  {
   "cell_type": "code",
   "execution_count": 10,
   "id": "ade09bfe-59b8-43e2-99a1-4310328a6b24",
   "metadata": {},
   "outputs": [],
   "source": [
    "list_ = [ '1','2','3','4','5' ]"
   ]
  },
  {
   "cell_type": "code",
   "execution_count": 57,
   "id": "18e9b2e3-9654-4e60-981a-51cad06fdd4b",
   "metadata": {},
   "outputs": [],
   "source": [
    "array_list = np.array(object = list_)"
   ]
  },
  {
   "cell_type": "markdown",
   "id": "b5ed4229-dd11-45ac-8fd3-a1cb066aec63",
   "metadata": {},
   "source": [
    "# Q1. Is there any difference in the data type of variables list_ and array_list? If there is then write a code to print the data types of both the variables."
   ]
  },
  {
   "cell_type": "markdown",
   "id": "51841f58-78de-49ae-b78e-fe12256253f3",
   "metadata": {},
   "source": [
    "Yes. List_ varianble is of data type list and array_list is of data type U1."
   ]
  },
  {
   "cell_type": "code",
   "execution_count": 28,
   "id": "d3e082ce-e375-44e8-bcb9-44724c484136",
   "metadata": {},
   "outputs": [
    {
     "data": {
      "text/plain": [
       "array(['1', '2', '3', '4', '5'], dtype='<U1')"
      ]
     },
     "execution_count": 28,
     "metadata": {},
     "output_type": "execute_result"
    }
   ],
   "source": [
    "array_list"
   ]
  },
  {
   "cell_type": "code",
   "execution_count": 44,
   "id": "449f7e60-33ed-4a4c-bd4b-131478a00b15",
   "metadata": {},
   "outputs": [
    {
     "name": "stdout",
     "output_type": "stream",
     "text": [
      "data type of list_ variable is  : <class 'list'>\n"
     ]
    }
   ],
   "source": [
    "print(\"data type of list_ variable is  :\", type(list_))"
   ]
  },
  {
   "cell_type": "code",
   "execution_count": 14,
   "id": "85dafe07-fd99-49fc-92b5-cfc0dbb31549",
   "metadata": {},
   "outputs": [
    {
     "data": {
      "text/plain": [
       "dtype('<U1')"
      ]
     },
     "execution_count": 14,
     "metadata": {},
     "output_type": "execute_result"
    }
   ],
   "source": [
    "array_list.dtype"
   ]
  },
  {
   "cell_type": "code",
   "execution_count": 17,
   "id": "c794cacc-5b11-49a3-87d0-1b0fd7a186c7",
   "metadata": {},
   "outputs": [
    {
     "name": "stdout",
     "output_type": "stream",
     "text": [
      "Datatype: <U1\n"
     ]
    }
   ],
   "source": [
    "print('Datatype:', array_list.dtype)"
   ]
  },
  {
   "cell_type": "markdown",
   "id": "719ccab4-8eaa-4003-ad7d-37d1004b1196",
   "metadata": {},
   "source": [
    "# Q2. Write a code to print the data type of each and every element of both the variables list_ and array_list."
   ]
  },
  {
   "cell_type": "code",
   "execution_count": 18,
   "id": "157f299c-3f89-4d9e-813c-56e3d0988010",
   "metadata": {},
   "outputs": [
    {
     "data": {
      "text/plain": [
       "['1', '2', '3', '4', '5']"
      ]
     },
     "execution_count": 18,
     "metadata": {},
     "output_type": "execute_result"
    }
   ],
   "source": [
    "list_"
   ]
  },
  {
   "cell_type": "code",
   "execution_count": 27,
   "id": "7a421b66-5ef8-4129-af22-2c4e4dd60003",
   "metadata": {},
   "outputs": [
    {
     "data": {
      "text/plain": [
       "[str, str, str, str, str]"
      ]
     },
     "execution_count": 27,
     "metadata": {},
     "output_type": "execute_result"
    }
   ],
   "source": [
    "a = [type(i) for i in list_]\n",
    "a"
   ]
  },
  {
   "cell_type": "code",
   "execution_count": 24,
   "id": "da09d70d-13d0-4ef5-becd-55044435757d",
   "metadata": {},
   "outputs": [
    {
     "name": "stdout",
     "output_type": "stream",
     "text": [
      "data type of each element in list_ : [<class 'str'>, <class 'str'>, <class 'str'>, <class 'str'>, <class 'str'>]\n"
     ]
    }
   ],
   "source": [
    "print(\"data type of each element in list_ :\", a)"
   ]
  },
  {
   "cell_type": "code",
   "execution_count": 58,
   "id": "c81c59f0-f2e1-41f1-8735-bf64514af87f",
   "metadata": {},
   "outputs": [],
   "source": [
    "def data_test_orig(x):\n",
    "    for i in x:\n",
    "        b= [] \n",
    "        b.append(type(i))\n",
    "        return b"
   ]
  },
  {
   "cell_type": "code",
   "execution_count": 59,
   "id": "609fdaa8-6325-4630-bf86-d0de2f8d9062",
   "metadata": {},
   "outputs": [
    {
     "name": "stdout",
     "output_type": "stream",
     "text": [
      "data type of each element in array_list : [<class 'numpy.str_'>]\n"
     ]
    }
   ],
   "source": [
    "print(\"data type of each element in array_list :\", data_test(array_list))"
   ]
  },
  {
   "cell_type": "markdown",
   "id": "f422c57d-2ec0-4ca3-a4f3-1198ecbc9b5e",
   "metadata": {},
   "source": [
    "# Q3. Considering the following changes in the variable, array_list:"
   ]
  },
  {
   "cell_type": "code",
   "execution_count": 60,
   "id": "b6e571b8-61ab-4641-8dbb-fe2a5fcd2917",
   "metadata": {},
   "outputs": [],
   "source": [
    "array_list = np.array(object = list_, dtype = int)"
   ]
  },
  {
   "cell_type": "code",
   "execution_count": 61,
   "id": "8869f816-ebe3-4575-9cbf-0af298550ffe",
   "metadata": {},
   "outputs": [
    {
     "data": {
      "text/plain": [
       "dtype('int64')"
      ]
     },
     "execution_count": 61,
     "metadata": {},
     "output_type": "execute_result"
    }
   ],
   "source": [
    "array_list.dtype"
   ]
  },
  {
   "cell_type": "code",
   "execution_count": 62,
   "id": "61ba725d-32b7-42f9-8af7-9cf365c01a74",
   "metadata": {},
   "outputs": [
    {
     "data": {
      "text/plain": [
       "list"
      ]
     },
     "execution_count": 62,
     "metadata": {},
     "output_type": "execute_result"
    }
   ],
   "source": [
    "type(list_)"
   ]
  },
  {
   "cell_type": "markdown",
   "id": "3416dcbb-c63c-488c-afbc-01019c04061f",
   "metadata": {},
   "source": [
    "The data type of array_list has been changed to int64 through argument given. list_ continues to remain of list type containing elements of string data type"
   ]
  },
  {
   "cell_type": "code",
   "execution_count": 63,
   "id": "c4d9a6fa-f938-4cdf-aa86-e5796269aa19",
   "metadata": {},
   "outputs": [
    {
     "data": {
      "text/plain": [
       "[str, str, str, str, str]"
      ]
     },
     "execution_count": 63,
     "metadata": {},
     "output_type": "execute_result"
    }
   ],
   "source": [
    "c = [type(i) for i in list_]\n",
    "c"
   ]
  },
  {
   "cell_type": "code",
   "execution_count": 64,
   "id": "c72d9b1c-d186-4957-8e8e-1dda455f2719",
   "metadata": {},
   "outputs": [
    {
     "name": "stdout",
     "output_type": "stream",
     "text": [
      "data type of each element in list_ : [<class 'str'>, <class 'str'>, <class 'str'>, <class 'str'>, <class 'str'>]\n"
     ]
    }
   ],
   "source": [
    "print(\"data type of each element in list_ :\", c)"
   ]
  },
  {
   "cell_type": "code",
   "execution_count": 65,
   "id": "2cbd3bee-af35-4da4-a9d9-53b490999d6f",
   "metadata": {},
   "outputs": [],
   "source": [
    "def data_test(x):\n",
    "    for i in x:\n",
    "        b= [] \n",
    "        b.append(type(i))\n",
    "        return b"
   ]
  },
  {
   "cell_type": "code",
   "execution_count": 67,
   "id": "630f7dd4-e6eb-408c-9d5b-50699dfe6c76",
   "metadata": {},
   "outputs": [
    {
     "name": "stdout",
     "output_type": "stream",
     "text": [
      "data type of each element in array_list : [<class 'numpy.int64'>]\n"
     ]
    }
   ],
   "source": [
    "print(\"data type of each element in array_list :\", data_test(array_list))"
   ]
  },
  {
   "cell_type": "markdown",
   "id": "ea3b507f-dcef-49ff-8fbb-dcb6890fca42",
   "metadata": {},
   "source": [
    "# Q4. Write a code to find the following characteristics of variable, num_array:\n",
    "(i) shape\n",
    "(ii) size"
   ]
  },
  {
   "cell_type": "code",
   "execution_count": 68,
   "id": "74ba97a1-65f3-4f34-adbe-bbc61118e313",
   "metadata": {},
   "outputs": [],
   "source": [
    "num_list = [ [ 1 , 2 , 3 ] , [ 4 , 5 , 6 ] ]\n",
    "num_array = np.array(object = num_list)"
   ]
  },
  {
   "cell_type": "code",
   "execution_count": 71,
   "id": "2fb4bcef-db3b-45d9-b377-d6ae8fc828bb",
   "metadata": {},
   "outputs": [
    {
     "data": {
      "text/plain": [
       "(2, 3)"
      ]
     },
     "execution_count": 71,
     "metadata": {},
     "output_type": "execute_result"
    }
   ],
   "source": [
    "num_array.shape"
   ]
  },
  {
   "cell_type": "code",
   "execution_count": 72,
   "id": "4489e6b8-a8ec-4e82-9b10-d52c71fa42b2",
   "metadata": {},
   "outputs": [
    {
     "data": {
      "text/plain": [
       "6"
      ]
     },
     "execution_count": 72,
     "metadata": {},
     "output_type": "execute_result"
    }
   ],
   "source": [
    "num_array.size"
   ]
  },
  {
   "cell_type": "markdown",
   "id": "cf8ea7ec-dd1f-48f5-8928-52718bc25187",
   "metadata": {},
   "source": [
    "# Q5. Write a code to create numpy array of 3*3 matrix containing zeros only, using a numpy array creation function."
   ]
  },
  {
   "cell_type": "code",
   "execution_count": 74,
   "id": "1434312e-893a-465d-8e52-f49a96fff163",
   "metadata": {},
   "outputs": [
    {
     "data": {
      "text/plain": [
       "array([[0., 0., 0.],\n",
       "       [0., 0., 0.],\n",
       "       [0., 0., 0.]])"
      ]
     },
     "execution_count": 74,
     "metadata": {},
     "output_type": "execute_result"
    }
   ],
   "source": [
    "zero_num = np.zeros((3,3))\n",
    "zero_num"
   ]
  },
  {
   "cell_type": "code",
   "execution_count": 75,
   "id": "cc649f29-d03d-46a0-ae42-cedd313ffefc",
   "metadata": {},
   "outputs": [
    {
     "data": {
      "text/plain": [
       "9"
      ]
     },
     "execution_count": 75,
     "metadata": {},
     "output_type": "execute_result"
    }
   ],
   "source": [
    "zero_num.size"
   ]
  },
  {
   "cell_type": "code",
   "execution_count": 76,
   "id": "fd3297c8-0d8a-4fa5-b0be-1c7c19c37524",
   "metadata": {},
   "outputs": [
    {
     "data": {
      "text/plain": [
       "(3, 3)"
      ]
     },
     "execution_count": 76,
     "metadata": {},
     "output_type": "execute_result"
    }
   ],
   "source": [
    "zero_num.shape"
   ]
  },
  {
   "cell_type": "markdown",
   "id": "bc67ad8f-4b90-4edb-8ed5-2ed8843d4078",
   "metadata": {},
   "source": [
    "# Q6. Create an identity matrix of shape (5,5) using numpy functions?"
   ]
  },
  {
   "cell_type": "code",
   "execution_count": 77,
   "id": "37471a42-d243-4183-81b1-d176a69ae78b",
   "metadata": {},
   "outputs": [],
   "source": [
    "import numpy.matlib as nm"
   ]
  },
  {
   "cell_type": "code",
   "execution_count": 78,
   "id": "1839cfba-1cbc-4bbf-bdef-664df42be281",
   "metadata": {},
   "outputs": [],
   "source": [
    "iden_mat = nm.eye(5)"
   ]
  },
  {
   "cell_type": "code",
   "execution_count": 79,
   "id": "b86bc7c7-0c7f-47fa-a6b5-e843b3e7f789",
   "metadata": {},
   "outputs": [
    {
     "data": {
      "text/plain": [
       "matrix([[1., 0., 0., 0., 0.],\n",
       "        [0., 1., 0., 0., 0.],\n",
       "        [0., 0., 1., 0., 0.],\n",
       "        [0., 0., 0., 1., 0.],\n",
       "        [0., 0., 0., 0., 1.]])"
      ]
     },
     "execution_count": 79,
     "metadata": {},
     "output_type": "execute_result"
    }
   ],
   "source": [
    "iden_mat"
   ]
  },
  {
   "cell_type": "code",
   "execution_count": 80,
   "id": "2a5c1309-ad56-4b5f-8959-26c1d6cbeae9",
   "metadata": {},
   "outputs": [
    {
     "data": {
      "text/plain": [
       "(5, 5)"
      ]
     },
     "execution_count": 80,
     "metadata": {},
     "output_type": "execute_result"
    }
   ],
   "source": [
    "iden_mat.shape"
   ]
  },
  {
   "cell_type": "code",
   "execution_count": null,
   "id": "b598e200-b41b-4686-a142-f4373d6d0c71",
   "metadata": {},
   "outputs": [],
   "source": []
  }
 ],
 "metadata": {
  "kernelspec": {
   "display_name": "Python 3 (ipykernel)",
   "language": "python",
   "name": "python3"
  },
  "language_info": {
   "codemirror_mode": {
    "name": "ipython",
    "version": 3
   },
   "file_extension": ".py",
   "mimetype": "text/x-python",
   "name": "python",
   "nbconvert_exporter": "python",
   "pygments_lexer": "ipython3",
   "version": "3.10.8"
  }
 },
 "nbformat": 4,
 "nbformat_minor": 5
}
