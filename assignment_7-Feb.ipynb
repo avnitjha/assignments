{
 "cells": [
  {
   "cell_type": "markdown",
   "id": "c46a000a-1edf-4b91-8e80-2c2c4f57ac67",
   "metadata": {},
   "source": [
    "# Assignment 7 feb"
   ]
  },
  {
   "cell_type": "markdown",
   "id": "0710e61f-f91c-4497-9e88-acfd8f67ffb8",
   "metadata": {},
   "source": [
    "# Q1 :"
   ]
  },
  {
   "cell_type": "code",
   "execution_count": 134,
   "id": "52844376-472b-4cc9-a1b8-c82be99f5c97",
   "metadata": {},
   "outputs": [
    {
     "name": "stdin",
     "output_type": "stream",
     "text": [
      "enter password SahiPass123@@@\n"
     ]
    },
    {
     "name": "stdout",
     "output_type": "stream",
     "text": [
      "Valid Password\n"
     ]
    }
   ],
   "source": [
    "l, u, p, d = 0, 0, 0, 0\n",
    "s = input(\"enter password\")\n",
    "if (len(s) >= 10):\n",
    "    for i in s:\n",
    " \n",
    "        # counting lowercase alphabets\n",
    "        if (i.islower()):\n",
    "            l+=1           \n",
    " \n",
    "        # counting uppercase alphabets\n",
    "        if (i.isupper()):\n",
    "            u+=1           \n",
    " \n",
    "        # counting digits\n",
    "        if (i.isdigit()):\n",
    "            d+=1           \n",
    " \n",
    "        # counting the mentioned special characters\n",
    "        if(i=='@'or i=='$' or i=='_'):\n",
    "            p+=1          \n",
    "if (l>=2 and u>=2 and p>=3 and d>=1 and l+p+u+d==len(s)):\n",
    "    print(\"Valid Password\")\n",
    "else:\n",
    "    print(\"Invalid Password\")"
   ]
  },
  {
   "cell_type": "markdown",
   "id": "a6fff038-3bd8-4c34-aa7b-20039c1cea5e",
   "metadata": {},
   "source": [
    "# Q2 :"
   ]
  },
  {
   "cell_type": "code",
   "execution_count": 56,
   "id": "365371d0-d180-454b-9351-7c59a4e351f0",
   "metadata": {},
   "outputs": [],
   "source": [
    "#Check if the string starts with a particular letter\n",
    "\n",
    "a=\"pwskills\"\n",
    "check_letter = lambda y: y[0] == \"p\"\n"
   ]
  },
  {
   "cell_type": "code",
   "execution_count": 57,
   "id": "da93a4da-d655-4143-966c-534b8435b01c",
   "metadata": {},
   "outputs": [
    {
     "data": {
      "text/plain": [
       "True"
      ]
     },
     "execution_count": 57,
     "metadata": {},
     "output_type": "execute_result"
    }
   ],
   "source": [
    "check_letter(a)"
   ]
  },
  {
   "cell_type": "code",
   "execution_count": 51,
   "id": "985d8996-dd81-4568-af33-a9782f165c1d",
   "metadata": {},
   "outputs": [],
   "source": [
    "#Check if the string is numeric\n",
    "\n",
    "b=\"123\"\n",
    "\n",
    "check_numeric = lambda x: x.isnumeric()"
   ]
  },
  {
   "cell_type": "code",
   "execution_count": 50,
   "id": "7f71628e-dc85-4ff2-b8f6-d7ea1bc2bc88",
   "metadata": {},
   "outputs": [
    {
     "data": {
      "text/plain": [
       "False"
      ]
     },
     "execution_count": 50,
     "metadata": {},
     "output_type": "execute_result"
    }
   ],
   "source": [
    "check_numeric(b)"
   ]
  },
  {
   "cell_type": "code",
   "execution_count": 64,
   "id": "8808ea45-8c9a-4d3d-bf67-040a4f675a07",
   "metadata": {},
   "outputs": [],
   "source": [
    "#Sort a list of tuples having fruit names and their quantity. [(\"mango\",99),(\"orange\",80), (\"grapes\", 1000)-\n",
    "lq = [(\"mango\",99),(\"orange\",80), (\"grapes\", 1000)]\n",
    "\n"
   ]
  },
  {
   "cell_type": "code",
   "execution_count": 67,
   "id": "8b7afb8d-ad2e-4350-b21f-e70b9bfd2fdc",
   "metadata": {},
   "outputs": [],
   "source": [
    "lq.sort(key=lambda a: a[1])"
   ]
  },
  {
   "cell_type": "code",
   "execution_count": 68,
   "id": "e9018e61-c5fb-4c99-ac68-72a803731b3e",
   "metadata": {},
   "outputs": [
    {
     "data": {
      "text/plain": [
       "[('orange', 80), ('mango', 99), ('grapes', 1000)]"
      ]
     },
     "execution_count": 68,
     "metadata": {},
     "output_type": "execute_result"
    }
   ],
   "source": [
    "lq"
   ]
  },
  {
   "cell_type": "code",
   "execution_count": 74,
   "id": "98cf0ab6-3fee-4e8f-b322-c1e947ba4660",
   "metadata": {},
   "outputs": [
    {
     "data": {
      "text/plain": [
       "[1, 2, 3, 4, 5, 6, 7, 8, 9, 10]"
      ]
     },
     "execution_count": 74,
     "metadata": {},
     "output_type": "execute_result"
    }
   ],
   "source": [
    "# Find the squares of numbers from 1 to 10\n",
    "l5=list(range(1,11))\n",
    "l5"
   ]
  },
  {
   "cell_type": "code",
   "execution_count": 75,
   "id": "3a46368e-5ef1-474f-bf00-063ccca1dc84",
   "metadata": {},
   "outputs": [],
   "source": [
    "def sq(x):\n",
    "    return x**2"
   ]
  },
  {
   "cell_type": "code",
   "execution_count": 76,
   "id": "58575a52-8846-460f-b6ed-cb2cadafc5a2",
   "metadata": {},
   "outputs": [
    {
     "data": {
      "text/plain": [
       "[1, 4, 9, 16, 25, 36, 49, 64, 81, 100]"
      ]
     },
     "execution_count": 76,
     "metadata": {},
     "output_type": "execute_result"
    }
   ],
   "source": [
    "list(map(sq,l5))"
   ]
  },
  {
   "cell_type": "code",
   "execution_count": 83,
   "id": "26e23f3f-4907-4c3d-b22b-36d72bfafd0a",
   "metadata": {},
   "outputs": [],
   "source": [
    "#Find the cube root of numbers from 1 to 10\n",
    "\n",
    "import numpy as np"
   ]
  },
  {
   "cell_type": "code",
   "execution_count": 84,
   "id": "ffa39f01-2975-4d58-bc76-02940fada102",
   "metadata": {},
   "outputs": [
    {
     "data": {
      "text/plain": [
       "[1.0,\n",
       " 1.2599210498948734,\n",
       " 1.4422495703074083,\n",
       " 1.5874010519681996,\n",
       " 1.7099759466766968,\n",
       " 1.8171205928321394,\n",
       " 1.9129311827723894,\n",
       " 2.0,\n",
       " 2.080083823051904,\n",
       " 2.1544346900318834]"
      ]
     },
     "execution_count": 84,
     "metadata": {},
     "output_type": "execute_result"
    }
   ],
   "source": [
    "list(map(np.cbrt,l5))"
   ]
  },
  {
   "cell_type": "code",
   "execution_count": 89,
   "id": "3b3860ff-fd55-492f-be29-b1be13794cfa",
   "metadata": {},
   "outputs": [],
   "source": [
    "#Check if a given number is even\n",
    "\n",
    "c= 24\n",
    "\n",
    "check_even= lambda x : x%2==0"
   ]
  },
  {
   "cell_type": "code",
   "execution_count": 90,
   "id": "e16eb373-d4a6-4f40-98f3-99fbc0fe6a1f",
   "metadata": {},
   "outputs": [
    {
     "data": {
      "text/plain": [
       "True"
      ]
     },
     "execution_count": 90,
     "metadata": {},
     "output_type": "execute_result"
    }
   ],
   "source": [
    "check_even(c)"
   ]
  },
  {
   "cell_type": "code",
   "execution_count": 91,
   "id": "0bc86ed7-f1b0-43cd-95f1-6a57cd50d167",
   "metadata": {},
   "outputs": [],
   "source": [
    "#Filter odd numbers from the given list.\n",
    "l6 = [1,2,3,4,5,6,7,8,9,10]"
   ]
  },
  {
   "cell_type": "code",
   "execution_count": 94,
   "id": "802233b2-e75d-409f-b648-cb0a24d96e9d",
   "metadata": {},
   "outputs": [
    {
     "data": {
      "text/plain": [
       "[1, 3, 5, 7, 9]"
      ]
     },
     "execution_count": 94,
     "metadata": {},
     "output_type": "execute_result"
    }
   ],
   "source": [
    "list(filter(lambda x: x%2 != 0,l6))"
   ]
  },
  {
   "cell_type": "code",
   "execution_count": 95,
   "id": "500cec21-688e-4b57-8784-6303c8cab9f4",
   "metadata": {},
   "outputs": [],
   "source": [
    "#Sort a list of integers into positive and negative integers lists.\n",
    "l = [1,2,3,4,5,6,-1,-2,-3,-4,-5,0]"
   ]
  },
  {
   "cell_type": "code",
   "execution_count": 96,
   "id": "6b03e8cd-64d9-4a33-a7a1-223868e6dfd7",
   "metadata": {},
   "outputs": [
    {
     "data": {
      "text/plain": [
       "[1, 2, 3, 4, 5, 6, 0]"
      ]
     },
     "execution_count": 96,
     "metadata": {},
     "output_type": "execute_result"
    }
   ],
   "source": [
    "#positive integers from list including 0\n",
    "[i for i in l if i>=0 ]"
   ]
  },
  {
   "cell_type": "code",
   "execution_count": 97,
   "id": "cda791fd-4d29-457a-a793-bbe6109ce36a",
   "metadata": {},
   "outputs": [
    {
     "data": {
      "text/plain": [
       "[-1, -2, -3, -4, -5]"
      ]
     },
     "execution_count": 97,
     "metadata": {},
     "output_type": "execute_result"
    }
   ],
   "source": [
    "#negative integers from list\n",
    "[i for i in l if i<0 ]\n"
   ]
  },
  {
   "cell_type": "markdown",
   "id": "2da663b9-4501-4aad-9624-db288b6e58f5",
   "metadata": {},
   "source": [
    "# using filter function:"
   ]
  },
  {
   "cell_type": "code",
   "execution_count": 98,
   "id": "1239fbab-874a-4fd1-add8-681974f0ce30",
   "metadata": {},
   "outputs": [
    {
     "data": {
      "text/plain": [
       "[1, 2, 3, 4, 5, 6, 0]"
      ]
     },
     "execution_count": 98,
     "metadata": {},
     "output_type": "execute_result"
    }
   ],
   "source": [
    "#positive integers including 0\n",
    "list(filter(lambda x: x>=0,l))"
   ]
  },
  {
   "cell_type": "code",
   "execution_count": 100,
   "id": "fbfbcc3f-f42b-409b-8bfb-985ca281038e",
   "metadata": {},
   "outputs": [
    {
     "data": {
      "text/plain": [
       "[-1, -2, -3, -4, -5]"
      ]
     },
     "execution_count": 100,
     "metadata": {},
     "output_type": "execute_result"
    }
   ],
   "source": [
    "#negative integers\n",
    "list(filter(lambda x: x<0,l))"
   ]
  },
  {
   "cell_type": "code",
   "execution_count": null,
   "id": "f55cae11-adb4-4078-b8b4-e02181d3166e",
   "metadata": {},
   "outputs": [],
   "source": []
  }
 ],
 "metadata": {
  "kernelspec": {
   "display_name": "Python 3 (ipykernel)",
   "language": "python",
   "name": "python3"
  },
  "language_info": {
   "codemirror_mode": {
    "name": "ipython",
    "version": 3
   },
   "file_extension": ".py",
   "mimetype": "text/x-python",
   "name": "python",
   "nbconvert_exporter": "python",
   "pygments_lexer": "ipython3",
   "version": "3.10.8"
  }
 },
 "nbformat": 4,
 "nbformat_minor": 5
}
